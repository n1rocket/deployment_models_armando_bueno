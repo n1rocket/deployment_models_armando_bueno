{
  "nbformat": 4,
  "nbformat_minor": 0,
  "metadata": {
    "colab": {
      "provenance": []
    },
    "kernelspec": {
      "name": "python3",
      "display_name": "Python 3"
    },
    "gpuClass": "standard",
    "accelerator": "GPU"
  },
  "cells": [
    {
      "cell_type": "markdown",
      "metadata": {
        "id": "T6tG-c0jKVQs"
      },
      "source": [
        "# Despligue de modelo para inferencias en Batch\n",
        "\n",
        "En esta primera práctica vamos a aprender cómo desplegar un modelo para realizar inferencias en Batch. Para ello, utilizaremos Google Cloud Platform (GCP).\n",
        "\n",
        "El objetivo de esta práctica es dados un conjunto de datos, primero generar un modelo que posteriormente pondremos a inferir de manera productiva sobre nuevos datos a gran escala.\n",
        "\n",
        "Para almacenar los datos usaremos Google Cloud Storage y posteriormente generaremos un entrenamiento automatizado y predicciones usando Google Cloud Dataflow. Para todo el procesamiento relacionado con el modelo se programará en Python y usando Apache Beam.\n",
        "\n",
        "Al acabar esta práctica seremos capaces de generar entrenamientos automáticos sobre un conjunto de datos y realizar predicciones en batch a gran escala."
      ]
    },
    {
      "cell_type": "markdown",
      "metadata": {
        "id": "SNTgfBTwOQ8x"
      },
      "source": [
        "# Introducción a Apache Beam\n"
      ]
    },
    {
      "cell_type": "markdown",
      "metadata": {
        "id": "kpNQiieCpWEg"
      },
      "source": [
        "[Beam](https://beam.apache.org/) es un modelo unificado open-source de definición de Pipelines de procesamiento en batch y streaming. Beam es muy útil en tareas de procesamiento muy paralelas con alto volumen de datos.\n",
        "\n",
        "La utilidad de Beam reside en la capacidad de difinir un único Pipeline tanto para realizar procesamientos en Batch y Streaming además de su capacidad de ejecutar en cualquier runtime actual como Spark, Flink o Dataflow.\n",
        "\n",
        "## Conceptos clave de Apache Beam\n",
        "\n",
        "*   Pipeline: entidad que encapsula la tarea de procesamiento, esto incluye leer datos de entrada, transformaciones y escribir datos de salida\n",
        "*   PCollection: representa un set de datos distribuido con el que la Pipeline trabaja.\n",
        "* PTransform: representa una operación de procesamiento dentro de un Pipeline.\n",
        "\n",
        "Un flujo de ejecución de Beam sería de la siguiente forma.\n",
        "\n",
        "1. Creamos un objeto Pipeline con su configuración (incluyendo el Runner donde va a ejecutar).\n",
        "2. Leemos un PCollection de una fuente de datos o creamos una propia.\n",
        "3. Aplicamos un PTransform definido en la Pipeline a cada PCollection que tengamos.\n",
        "4. Ejecutamos el Pipeline en el Runner especificado.\n",
        "\n",
        "\n"
      ]
    },
    {
      "cell_type": "markdown",
      "metadata": {
        "id": "TPj73rmMpkKF"
      },
      "source": [
        "## Entendiendo un Pipeline"
      ]
    },
    {
      "cell_type": "code",
      "metadata": {
        "id": "8nEx7nG1bHFi",
        "colab": {
          "base_uri": "https://localhost:8080/"
        },
        "outputId": "5758ead6-6273-4717-a2de-969844c7282c"
      },
      "source": [
        "! pip install apache-beam"
      ],
      "execution_count": null,
      "outputs": [
        {
          "output_type": "stream",
          "name": "stdout",
          "text": [
            "Looking in indexes: https://pypi.org/simple, https://us-python.pkg.dev/colab-wheels/public/simple/\n",
            "Collecting apache-beam\n",
            "  Downloading apache_beam-2.46.0-cp39-cp39-manylinux_2_17_x86_64.manylinux2014_x86_64.whl (14.5 MB)\n",
            "\u001b[2K     \u001b[90m━━━━━━━━━━━━━━━━━━━━━━━━━━━━━━━━━━━━━━━━\u001b[0m \u001b[32m14.5/14.5 MB\u001b[0m \u001b[31m51.4 MB/s\u001b[0m eta \u001b[36m0:00:00\u001b[0m\n",
            "\u001b[?25hRequirement already satisfied: python-dateutil<3,>=2.8.0 in /usr/local/lib/python3.9/dist-packages (from apache-beam) (2.8.2)\n",
            "Collecting orjson<4.0\n",
            "  Downloading orjson-3.8.7-cp39-cp39-manylinux_2_28_x86_64.whl (140 kB)\n",
            "\u001b[2K     \u001b[90m━━━━━━━━━━━━━━━━━━━━━━━━━━━━━━━━━━━━━━━\u001b[0m \u001b[32m140.9/140.9 KB\u001b[0m \u001b[31m2.2 MB/s\u001b[0m eta \u001b[36m0:00:00\u001b[0m\n",
            "\u001b[?25hCollecting crcmod<2.0,>=1.7\n",
            "  Downloading crcmod-1.7.tar.gz (89 kB)\n",
            "\u001b[2K     \u001b[90m━━━━━━━━━━━━━━━━━━━━━━━━━━━━━━━━━━━━━━━━\u001b[0m \u001b[32m89.7/89.7 KB\u001b[0m \u001b[31m10.4 MB/s\u001b[0m eta \u001b[36m0:00:00\u001b[0m\n",
            "\u001b[?25h  Preparing metadata (setup.py) ... \u001b[?25l\u001b[?25hdone\n",
            "Requirement already satisfied: regex>=2020.6.8 in /usr/local/lib/python3.9/dist-packages (from apache-beam) (2022.6.2)\n",
            "Collecting pymongo<4.0.0,>=3.8.0\n",
            "  Downloading pymongo-3.13.0-cp39-cp39-manylinux_2_17_x86_64.manylinux2014_x86_64.whl (515 kB)\n",
            "\u001b[2K     \u001b[90m━━━━━━━━━━━━━━━━━━━━━━━━━━━━━━━━━━━━━━\u001b[0m \u001b[32m515.5/515.5 KB\u001b[0m \u001b[31m11.2 MB/s\u001b[0m eta \u001b[36m0:00:00\u001b[0m\n",
            "\u001b[?25hRequirement already satisfied: numpy<1.25.0,>=1.14.3 in /usr/local/lib/python3.9/dist-packages (from apache-beam) (1.22.4)\n",
            "Collecting fastavro<2,>=0.23.6\n",
            "  Downloading fastavro-1.7.3-cp39-cp39-manylinux_2_17_x86_64.manylinux2014_x86_64.whl (2.7 MB)\n",
            "\u001b[2K     \u001b[90m━━━━━━━━━━━━━━━━━━━━━━━━━━━━━━━━━━━━━━━━\u001b[0m \u001b[32m2.7/2.7 MB\u001b[0m \u001b[31m22.7 MB/s\u001b[0m eta \u001b[36m0:00:00\u001b[0m\n",
            "\u001b[?25hCollecting zstandard<1,>=0.18.0\n",
            "  Downloading zstandard-0.20.0-cp39-cp39-manylinux_2_17_x86_64.manylinux2014_x86_64.whl (2.6 MB)\n",
            "\u001b[2K     \u001b[90m━━━━━━━━━━━━━━━━━━━━━━━━━━━━━━━━━━━━━━━━\u001b[0m \u001b[32m2.6/2.6 MB\u001b[0m \u001b[31m22.4 MB/s\u001b[0m eta \u001b[36m0:00:00\u001b[0m\n",
            "\u001b[?25hRequirement already satisfied: grpcio!=1.48.0,<2,>=1.33.1 in /usr/local/lib/python3.9/dist-packages (from apache-beam) (1.51.3)\n",
            "Requirement already satisfied: pyarrow<10.0.0,>=3.0.0 in /usr/local/lib/python3.9/dist-packages (from apache-beam) (9.0.0)\n",
            "Requirement already satisfied: pytz>=2018.3 in /usr/local/lib/python3.9/dist-packages (from apache-beam) (2022.7.1)\n",
            "Requirement already satisfied: protobuf<4,>3.12.2 in /usr/local/lib/python3.9/dist-packages (from apache-beam) (3.19.6)\n",
            "Collecting hdfs<3.0.0,>=2.1.0\n",
            "  Downloading hdfs-2.7.0-py3-none-any.whl (34 kB)\n",
            "Collecting objsize<0.7.0,>=0.6.1\n",
            "  Downloading objsize-0.6.1-py3-none-any.whl (9.3 kB)\n",
            "Requirement already satisfied: httplib2<0.22.0,>=0.8 in /usr/local/lib/python3.9/dist-packages (from apache-beam) (0.17.4)\n",
            "Requirement already satisfied: requests<3.0.0,>=2.24.0 in /usr/local/lib/python3.9/dist-packages (from apache-beam) (2.25.1)\n",
            "Requirement already satisfied: typing-extensions>=3.7.0 in /usr/local/lib/python3.9/dist-packages (from apache-beam) (4.5.0)\n",
            "Requirement already satisfied: proto-plus<2,>=1.7.1 in /usr/local/lib/python3.9/dist-packages (from apache-beam) (1.22.2)\n",
            "Requirement already satisfied: cloudpickle~=2.2.1 in /usr/local/lib/python3.9/dist-packages (from apache-beam) (2.2.1)\n",
            "Collecting dill<0.3.2,>=0.3.1.1\n",
            "  Downloading dill-0.3.1.1.tar.gz (151 kB)\n",
            "\u001b[2K     \u001b[90m━━━━━━━━━━━━━━━━━━━━━━━━━━━━━━━━━━━━━━━\u001b[0m \u001b[32m152.0/152.0 KB\u001b[0m \u001b[31m2.7 MB/s\u001b[0m eta \u001b[36m0:00:00\u001b[0m\n",
            "\u001b[?25h  Preparing metadata (setup.py) ... \u001b[?25l\u001b[?25hdone\n",
            "Collecting fasteners<1.0,>=0.3\n",
            "  Downloading fasteners-0.18-py3-none-any.whl (18 kB)\n",
            "Requirement already satisfied: pydot<2,>=1.2.0 in /usr/local/lib/python3.9/dist-packages (from apache-beam) (1.3.0)\n",
            "Requirement already satisfied: six>=1.9.0 in /usr/local/lib/python3.9/dist-packages (from hdfs<3.0.0,>=2.1.0->apache-beam) (1.15.0)\n",
            "Collecting docopt\n",
            "  Downloading docopt-0.6.2.tar.gz (25 kB)\n",
            "  Preparing metadata (setup.py) ... \u001b[?25l\u001b[?25hdone\n",
            "Requirement already satisfied: pyparsing>=2.1.4 in /usr/local/lib/python3.9/dist-packages (from pydot<2,>=1.2.0->apache-beam) (3.0.9)\n",
            "Requirement already satisfied: chardet<5,>=3.0.2 in /usr/local/lib/python3.9/dist-packages (from requests<3.0.0,>=2.24.0->apache-beam) (4.0.0)\n",
            "Requirement already satisfied: urllib3<1.27,>=1.21.1 in /usr/local/lib/python3.9/dist-packages (from requests<3.0.0,>=2.24.0->apache-beam) (1.26.15)\n",
            "Requirement already satisfied: certifi>=2017.4.17 in /usr/local/lib/python3.9/dist-packages (from requests<3.0.0,>=2.24.0->apache-beam) (2022.12.7)\n",
            "Requirement already satisfied: idna<3,>=2.5 in /usr/local/lib/python3.9/dist-packages (from requests<3.0.0,>=2.24.0->apache-beam) (2.10)\n",
            "Building wheels for collected packages: crcmod, dill, docopt\n",
            "  Building wheel for crcmod (setup.py) ... \u001b[?25l\u001b[?25hdone\n",
            "  Created wheel for crcmod: filename=crcmod-1.7-cp39-cp39-linux_x86_64.whl size=36912 sha256=8b6ff53c04599b22fdbb1aee5352690731e43f1fa97f24311e05daf25eef8f42\n",
            "  Stored in directory: /root/.cache/pip/wheels/4a/6c/a6/ffdd136310039bf226f2707a9a8e6857be7d70a3fc061f6b36\n",
            "  Building wheel for dill (setup.py) ... \u001b[?25l\u001b[?25hdone\n",
            "  Created wheel for dill: filename=dill-0.3.1.1-py3-none-any.whl size=78542 sha256=27c472660d5a59cfa578378f931847c9013a2d3c49288f63ab3dba8f3c1a49bb\n",
            "  Stored in directory: /root/.cache/pip/wheels/4f/0b/ce/75d96dd714b15e51cb66db631183ea3844e0c4a6d19741a149\n",
            "  Building wheel for docopt (setup.py) ... \u001b[?25l\u001b[?25hdone\n",
            "  Created wheel for docopt: filename=docopt-0.6.2-py2.py3-none-any.whl size=13721 sha256=f86f0a1c2ebbe73576c1dfb31a0c3632c11d6e9859c9bb10c66386e70c75ce1b\n",
            "  Stored in directory: /root/.cache/pip/wheels/70/4a/46/1309fc853b8d395e60bafaf1b6df7845bdd82c95fd59dd8d2b\n",
            "Successfully built crcmod dill docopt\n",
            "Installing collected packages: docopt, crcmod, zstandard, pymongo, orjson, objsize, fasteners, fastavro, dill, hdfs, apache-beam\n",
            "  Attempting uninstall: pymongo\n",
            "    Found existing installation: pymongo 4.3.3\n",
            "    Uninstalling pymongo-4.3.3:\n",
            "      Successfully uninstalled pymongo-4.3.3\n",
            "Successfully installed apache-beam-2.46.0 crcmod-1.7 dill-0.3.1.1 docopt-0.6.2 fastavro-1.7.3 fasteners-0.18 hdfs-2.7.0 objsize-0.6.1 orjson-3.8.7 pymongo-3.13.0 zstandard-0.20.0\n"
          ]
        }
      ]
    },
    {
      "cell_type": "markdown",
      "source": [
        "Importamos Beam y empezamos a crear un pipeline utilizando un contexto. El contexto nos permite crear variables dentro de un entorno controlado."
      ],
      "metadata": {
        "id": "b6pp9m4IYnJ-"
      }
    },
    {
      "cell_type": "code",
      "metadata": {
        "id": "Kp_Kr-Fnbft4",
        "colab": {
          "base_uri": "https://localhost:8080/"
        },
        "outputId": "a8901f9a-28b9-4cb1-f4c4-5548c59b25ff"
      },
      "source": [
        "import apache_beam as beam\n",
        "from apache_beam.options.pipeline_options import PipelineOptions\n",
        "\n",
        "with beam.Pipeline(options=PipelineOptions()) as pipeline:\n",
        "  pass  # build your pipeline here"
      ],
      "execution_count": null,
      "outputs": [
        {
          "output_type": "stream",
          "name": "stderr",
          "text": [
            "WARNING:apache_beam.options.pipeline_options:Discarding unparseable args: ['-f', '/root/.local/share/jupyter/runtime/kernel-74b8bfed-304f-4e28-ad2e-604b6fcc26fe.json']\n"
          ]
        }
      ]
    },
    {
      "cell_type": "markdown",
      "source": [
        "Vamos a crear nuestra primera colección. Para ello empleamos create. Llamaremos a nuestra pipeline: primera_pipeline.\n",
        "\n",
        "Para añadir transformaciones usamos el operador pipe (|).\n",
        "\n",
        "Para crear nuestra primera colección uasmos una lista de palabras:"
      ],
      "metadata": {
        "id": "8ZmT8DaSYxBY"
      }
    },
    {
      "cell_type": "code",
      "metadata": {
        "id": "4Ygnp_cKfsu-",
        "colab": {
          "base_uri": "https://localhost:8080/",
          "height": 108
        },
        "outputId": "464546eb-e4dc-48c7-8e60-e70863015f8c"
      },
      "source": [
        "# Create a PCollection\n",
        "with beam.Pipeline(options=PipelineOptions()) as primera_pipeline:\n",
        "  words = (\n",
        "      primera_pipeline | beam.Create([\n",
        "            'hola',\n",
        "            'hello',\n",
        "            'saluts',\n",
        "            'ciao',\n",
        "        ]))\n"
      ],
      "execution_count": null,
      "outputs": [
        {
          "output_type": "stream",
          "name": "stderr",
          "text": [
            "WARNING:apache_beam.runners.interactive.interactive_environment:Dependencies required for Interactive Beam PCollection visualization are not available, please use: `pip install apache-beam[interactive]` to install necessary dependencies to enable all data visualization features.\n"
          ]
        },
        {
          "output_type": "display_data",
          "data": {
            "application/javascript": [
              "\n",
              "        if (typeof window.interactive_beam_jquery == 'undefined') {\n",
              "          var jqueryScript = document.createElement('script');\n",
              "          jqueryScript.src = 'https://code.jquery.com/jquery-3.4.1.slim.min.js';\n",
              "          jqueryScript.type = 'text/javascript';\n",
              "          jqueryScript.onload = function() {\n",
              "            var datatableScript = document.createElement('script');\n",
              "            datatableScript.src = 'https://cdn.datatables.net/1.10.20/js/jquery.dataTables.min.js';\n",
              "            datatableScript.type = 'text/javascript';\n",
              "            datatableScript.onload = function() {\n",
              "              window.interactive_beam_jquery = jQuery.noConflict(true);\n",
              "              window.interactive_beam_jquery(document).ready(function($){\n",
              "                \n",
              "              });\n",
              "            }\n",
              "            document.head.appendChild(datatableScript);\n",
              "          };\n",
              "          document.head.appendChild(jqueryScript);\n",
              "        } else {\n",
              "          window.interactive_beam_jquery(document).ready(function($){\n",
              "            \n",
              "          });\n",
              "        }"
            ]
          },
          "metadata": {}
        },
        {
          "output_type": "stream",
          "name": "stderr",
          "text": [
            "WARNING:apache_beam.options.pipeline_options:Discarding unparseable args: ['-f', '/root/.local/share/jupyter/runtime/kernel-74b8bfed-304f-4e28-ad2e-604b6fcc26fe.json']\n",
            "WARNING:apache_beam.options.pipeline_options:Discarding unparseable args: ['-f', '/root/.local/share/jupyter/runtime/kernel-74b8bfed-304f-4e28-ad2e-604b6fcc26fe.json']\n",
            "WARNING:apache_beam.options.pipeline_options:Discarding unparseable args: ['-f', '/root/.local/share/jupyter/runtime/kernel-74b8bfed-304f-4e28-ad2e-604b6fcc26fe.json']\n"
          ]
        }
      ]
    },
    {
      "cell_type": "markdown",
      "source": [
        "Hemos creado nuestra primera transformación. El input es la lista y la transformación es la creación de una colección."
      ],
      "metadata": {
        "id": "sIY2d6MeZLs8"
      }
    },
    {
      "cell_type": "markdown",
      "metadata": {
        "id": "8YRctRxdePGN"
      },
      "source": [
        "Dentro de la claúsula `with` de Python definiremos las transformaciones a aplicar. Para encadenar transformaciones a la pipeline se usará el operador `|` como vemos a continuación: \n",
        "\n",
        "`[Output PCollection] = [Input PCollection] | [Transform]`\n",
        "\n",
        "```\n",
        "[Final Output PCollection] = ([Initial Input PCollection] | [First Transform]\n",
        "                              | [Second Transform]\n",
        "                              | [Third Transform])\n",
        "```\n",
        "\n"
      ]
    },
    {
      "cell_type": "markdown",
      "source": [
        "El Final Output sería nuestra base de datos de la derecha en el diagrama que se construye a partir de las colecciones y transformaciones a la derecha del igual."
      ],
      "metadata": {
        "id": "vTAcmRyaaERO"
      }
    },
    {
      "cell_type": "markdown",
      "metadata": {
        "id": "xJv-qubGczJT"
      },
      "source": [
        "![image.png](data:image/png;base64,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)"
      ]
    },
    {
      "cell_type": "markdown",
      "source": [
        "Los pipes nos permiten generar grafos de ejecución para diseñar los flujos a nuestro gusto. En el ejemplo siguiente vemos como primero leemos los datos y a continuación aplicamos dos transformaciones distintas que se pueden realizar en paralelo:"
      ],
      "metadata": {
        "id": "N16cAu1taszl"
      }
    },
    {
      "cell_type": "markdown",
      "metadata": {
        "id": "3wgIvadHsQjt"
      },
      "source": [
        "```\n",
        "[PCollection of database table rows] = [Database Table Reader] | [Read Transform]\n",
        "[PCollection of 'A' names] = [PCollection of database table rows] | [Transform A]\n",
        "[PCollection of 'B' names] = [PCollection of database table rows] | [Transform B]\n",
        "```"
      ]
    },
    {
      "cell_type": "markdown",
      "metadata": {
        "id": "UUPf-d2gdIkJ"
      },
      "source": [
        "![image.png](data:image/png;base64,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)"
      ]
    },
    {
      "cell_type": "markdown",
      "metadata": {
        "id": "wV5M-LpEdZq0"
      },
      "source": [
        "Apache Beam tiene una serie de Transformaciones básicas que podemos aplicar en nuestra Pipeline. Las fundamentales son las siguientes:\n",
        "\n",
        "* ParDo\n",
        "* GroupByKey\n",
        "* CoGroupByKey\n",
        "* Combine\n",
        "* Flatten\n",
        "* Partition\n",
        "\n",
        "Nosotros nos vamos a centrar en la transformación ParDo. Esta transformación nos permite aplicar nuestro código Python sobre colecciones de datos. Esta ejecución se realiza en paralelo lo cual resulta muy eficiente a nivel computacional.\n",
        "\n",
        "Para definir esta transformación tenemos que definir una clase de Python que herede de `beam.DoFn` y codificar nuestras operaciones en el método `process`. El método `process` es obligatorio y se tiene que llamar así.\n",
        "\n",
        "En `element` irá la información que queremos procesar, por ejemplo, una fila de un dataframe."
      ]
    },
    {
      "cell_type": "code",
      "metadata": {
        "id": "vwJgy_mwfRfc"
      },
      "source": [
        "class ComputeWordLengthFn(beam.DoFn):\n",
        "  def process(self, element):\n",
        "    return [len(element)]"
      ],
      "execution_count": null,
      "outputs": []
    },
    {
      "cell_type": "markdown",
      "source": [
        "La gran ventaja es que dentro de nuestro process podemos usar todo tipo de librerías lo cual otorga una gran versatilidad a nuestro código."
      ],
      "metadata": {
        "id": "QCy9g_2ucR5y"
      }
    },
    {
      "cell_type": "code",
      "metadata": {
        "id": "YN-aPMqHgijz",
        "colab": {
          "base_uri": "https://localhost:8080/"
        },
        "outputId": "718d6d1e-6a54-4592-a3bb-fb6999d7c3d3"
      },
      "source": [
        "# Create a PCollection\n",
        "with beam.Pipeline(options=PipelineOptions()) as pipeline_longitud:\n",
        "  palabras = (\n",
        "        pipeline_longitud | beam.Create([\n",
        "            'hola',\n",
        "            'hello',\n",
        "            'saluts',\n",
        "            'ciao',\n",
        "        ]))\n",
        "  palabras_lengths = palabras | beam.ParDo(ComputeWordLengthFn())"
      ],
      "execution_count": null,
      "outputs": [
        {
          "output_type": "stream",
          "name": "stderr",
          "text": [
            "WARNING:apache_beam.options.pipeline_options:Discarding unparseable args: ['-f', '/root/.local/share/jupyter/runtime/kernel-74b8bfed-304f-4e28-ad2e-604b6fcc26fe.json']\n",
            "WARNING:apache_beam.options.pipeline_options:Discarding unparseable args: ['-f', '/root/.local/share/jupyter/runtime/kernel-74b8bfed-304f-4e28-ad2e-604b6fcc26fe.json']\n"
          ]
        }
      ]
    },
    {
      "cell_type": "markdown",
      "source": [
        "No se muestra nada porque está ejecutando por debajo. Para que nos muestre explícitamente los resultados debemos indicárselo."
      ],
      "metadata": {
        "id": "kxnBrTdecs3x"
      }
    },
    {
      "cell_type": "markdown",
      "metadata": {
        "id": "1kaTGfHDhSyh"
      },
      "source": [
        "En el caso de que nuestro código sea muy sencillo y podamos meterlo en una función lambda podemos usar la transformacion `FlatMap` para aplicarla sobre cada elemento de nuestra PCollection sin necesidad de crear una clase como en el ejemplo anterior. Esto será solo útil para procesos muy muy simples:"
      ]
    },
    {
      "cell_type": "code",
      "source": [
        "# Create a PCollection\n",
        "with beam.Pipeline(options=PipelineOptions()) as pipeline_longitud:\n",
        "  palabras = (\n",
        "        pipeline_longitud | beam.Create([\n",
        "            'hola',\n",
        "            'hello',\n",
        "            'saluts',\n",
        "            'ciao',\n",
        "        ]))\n",
        "  palabras_lengths = palabras | beam.FlatMap(lambda palabra: [len(palabra)])"
      ],
      "metadata": {
        "colab": {
          "base_uri": "https://localhost:8080/"
        },
        "id": "yoZt9JfhdHWi",
        "outputId": "1d774525-2b6c-4977-d4a2-9a3a439aae7a"
      },
      "execution_count": null,
      "outputs": [
        {
          "output_type": "stream",
          "name": "stderr",
          "text": [
            "WARNING:apache_beam.options.pipeline_options:Discarding unparseable args: ['-f', '/root/.local/share/jupyter/runtime/kernel-74b8bfed-304f-4e28-ad2e-604b6fcc26fe.json']\n",
            "WARNING:apache_beam.options.pipeline_options:Discarding unparseable args: ['-f', '/root/.local/share/jupyter/runtime/kernel-74b8bfed-304f-4e28-ad2e-604b6fcc26fe.json']\n"
          ]
        }
      ]
    },
    {
      "cell_type": "markdown",
      "metadata": {
        "id": "X-Mz1nPmhmk2"
      },
      "source": [
        "Y si es aún más sencillo como en este caso que sólo aplicar la función `len` sobre cada elemento podemos usar la transformación `Map` que aplica la función indicada a cada elemento como puede ser un `len` o un `print`. Esto solo será posible cuando utilicemos métodos nativos de Python. En este caso, sacrificamos versatilidad (uso de módulos) a cambio de sencillez:"
      ]
    },
    {
      "cell_type": "code",
      "source": [
        "# Create a PCollection\n",
        "with beam.Pipeline(options=PipelineOptions()) as pipeline_longitud:\n",
        "  palabras = (\n",
        "        pipeline_longitud | beam.Create([\n",
        "            'hola',\n",
        "            'hello',\n",
        "            'saluts',\n",
        "            'ciao',\n",
        "        ]))\n",
        "  palabras_lengths = palabras | beam.Map(len)"
      ],
      "metadata": {
        "colab": {
          "base_uri": "https://localhost:8080/"
        },
        "id": "v-RVFgnldeKO",
        "outputId": "03381cf0-3eec-409c-9785-5aa1170bcd99"
      },
      "execution_count": null,
      "outputs": [
        {
          "output_type": "stream",
          "name": "stderr",
          "text": [
            "WARNING:apache_beam.options.pipeline_options:Discarding unparseable args: ['-f', '/root/.local/share/jupyter/runtime/kernel-74b8bfed-304f-4e28-ad2e-604b6fcc26fe.json']\n",
            "WARNING:apache_beam.options.pipeline_options:Discarding unparseable args: ['-f', '/root/.local/share/jupyter/runtime/kernel-74b8bfed-304f-4e28-ad2e-604b6fcc26fe.json']\n"
          ]
        }
      ]
    },
    {
      "cell_type": "markdown",
      "source": [
        "Por último podemos ver cómo es cierto qué las pipelines calculan el resultado deseado:"
      ],
      "metadata": {
        "id": "dIO4SkgIdv45"
      }
    },
    {
      "cell_type": "code",
      "source": [
        "# Create a PCollection\n",
        "with beam.Pipeline(options=PipelineOptions()) as pipeline_longitud:\n",
        "  palabras = (\n",
        "        pipeline_longitud | beam.Create([\n",
        "            'hola',\n",
        "            'hello',\n",
        "            'saluts',\n",
        "            'ciao',\n",
        "        ]))\n",
        "  palabras_lengths = palabras | beam.Map(len)\n",
        "  palabras_print = palabras_lengths | beam.Map(print)"
      ],
      "metadata": {
        "colab": {
          "base_uri": "https://localhost:8080/"
        },
        "id": "Le8ahmv_dy-J",
        "outputId": "43ed576c-99d2-4f23-caba-adb010b830fa"
      },
      "execution_count": null,
      "outputs": [
        {
          "output_type": "stream",
          "name": "stderr",
          "text": [
            "WARNING:apache_beam.options.pipeline_options:Discarding unparseable args: ['-f', '/root/.local/share/jupyter/runtime/kernel-74b8bfed-304f-4e28-ad2e-604b6fcc26fe.json']\n",
            "WARNING:apache_beam.options.pipeline_options:Discarding unparseable args: ['-f', '/root/.local/share/jupyter/runtime/kernel-74b8bfed-304f-4e28-ad2e-604b6fcc26fe.json']\n"
          ]
        },
        {
          "output_type": "stream",
          "name": "stdout",
          "text": [
            "4\n",
            "5\n",
            "6\n",
            "4\n"
          ]
        }
      ]
    },
    {
      "cell_type": "markdown",
      "metadata": {
        "id": "RLQtYIS0kRF4"
      },
      "source": [
        "# ¡Manos a la obra!\n",
        "\n",
        "Ahora vamos a comenzar con el desarrollo para el despliegue en batch. Va a constar de tres pipelines diferentes:\n",
        "\n",
        "1.   **Pipeline de preprocesamiento**: en esta pipeline leeremos los datos de entrada de un fichero Google Cloud Storage y limpiaremos los datos\n",
        "2.   **Pipeline de entrenamiento**: en esta pipeline usaremos los datos preprocesados para entrenar un modelo que prediga el sentimiento de un string de texto.\n",
        "3. **Pipeline de inferencia**: esta pipeline cargará el modelo entrenado y realizará predicciones en batch en paralelo a gran escala.\n",
        "\n",
        "**INTRODUCIR DIAGRAMA DE LA PRÁCTICA**"
      ]
    },
    {
      "cell_type": "markdown",
      "metadata": {
        "id": "WrxbT-7-pt9f"
      },
      "source": [
        "## Configuración de nuestro proyecto en GCP\n",
        "\n",
        "**Los siguientes pasos es obligatorio realizarlos para seguir con la práctica.**\n",
        "\n",
        "1.   Selecciona o crea un proyecto en GCP\n",
        "2.   Asegurate de que la facturación está activada para tu proyecto.\n",
        "3.   [Habilita la API de Google Cloud Storage](https://console.cloud.google.com/apis/library/storage-component.googleapis.com?q=storage).\n",
        "4. [Habilita la API de Google Cloud Dataflow](https://console.cloud.google.com/apis/library/dataflow.googleapis.com?q=dataflow).\n",
        "5. [Habilita la API de Google AI Platform](https://console.cloud.google.com/apis/library/ml.googleapis.com?q=ai%20platform).\n",
        "6. Introduce tu ID de proyecto de GCP en la celda de abajo. Ejecuta la celda para asegurarnos de que el Cloud SDK usa el proyecto adecuado para todos los comandos en este notebook.\n",
        "\n",
        "**Nota1**: No cierres las ventanas en las que habilitas la API hasta que el proceso de habilitación haya terminado.\n",
        "\n",
        "**Nota2**: Jupyter ejecuta las lineas con el prefijo `!` como comandos shell de consola, y puede usar variables de Python en los comandos añadiendoles el prefijo `$`."
      ]
    },
    {
      "cell_type": "code",
      "metadata": {
        "deletable": true,
        "editable": true,
        "id": "4qxwBA4RM9Lu",
        "colab": {
          "base_uri": "https://localhost:8080/"
        },
        "outputId": "07ab90de-ea8b-48d2-cc01-0fac55466754"
      },
      "source": [
        "PROJECT_ID = \"puestaproduccionkcmarzo23\" #@param {type:\"string\"}\n",
        "! gcloud config set project $PROJECT_ID"
      ],
      "execution_count": null,
      "outputs": [
        {
          "output_type": "stream",
          "name": "stdout",
          "text": [
            "Updated property [core/project].\n"
          ]
        }
      ]
    },
    {
      "cell_type": "markdown",
      "source": [
        "Importante. La cuenta con la que tengáis abierto el Google Colab debe ser la misma a la que tenemos asociada nuestra cuenta de la nube:"
      ],
      "metadata": {
        "id": "V6NBujTdjAZd"
      }
    },
    {
      "cell_type": "code",
      "metadata": {
        "deletable": true,
        "editable": true,
        "id": "W9i6oektpgld",
        "tags": [
          "skip"
        ]
      },
      "source": [
        "import sys\n",
        "\n",
        "# If you are running this notebook in Colab, run this cell and follow the\n",
        "# instructions to authenticate your GCP account. This provides access to your\n",
        "# Cloud Storage bucket and lets you submit training jobs and prediction\n",
        "# requests.\n",
        "\n",
        "if 'google.colab' in sys.modules:\n",
        "  from google.colab import auth as google_auth\n",
        "  google_auth.authenticate_user()\n",
        "\n",
        "# If you are running this notebook locally, replace the string below with the\n",
        "# path to your service account key and run this cell to authenticate your GCP\n",
        "# account.\n",
        "else:\n",
        "  %env GOOGLE_APPLICATION_CREDENTIALS ''\n"
      ],
      "execution_count": null,
      "outputs": []
    },
    {
      "cell_type": "markdown",
      "metadata": {
        "id": "azNFFNMgpKBr"
      },
      "source": [
        "## Creación bucket en Cloud Storage\n",
        "\n",
        "**Los siguientes pasos son obligatorios.**\n",
        "\n",
        "Cuando ejecutemos un job de entrenamiento usando el Cloud SDK, lo que hacemos es subir un paquete Python que contiene el código de entrenamiento a Google Cloud Storage. AI Platform ejecuta este paquete en el job.\n",
        "\n",
        "Establece el nombre del bucket a continuación. El nombre tiene que ser **único** para todos los bucket de GCP, por lo que se recomienda nombres muy personales o que incluyan el timestamp. También tenemos que establecer la variable `REGION`, la cual usaremos para todas las operaciones a lo largo del notebook. Asegurate de [elegir una región en la que Cloud AI Platform esté disponible](https://cloud.google.com/ml-engine/docs/tensorflow/regions)."
      ]
    },
    {
      "cell_type": "code",
      "metadata": {
        "deletable": true,
        "editable": true,
        "id": "bTxmbDg1I0x1"
      },
      "source": [
        "BUCKET_NAME = \"puestaproduccionkcmarzo23-art\" #@param {type:\"string\"}\n",
        "REGION = \"europe-west1\" #@param {type:\"string\"}"
      ],
      "execution_count": null,
      "outputs": []
    },
    {
      "cell_type": "markdown",
      "metadata": {
        "id": "ZlQymziRrHqS"
      },
      "source": [
        "**Sólo si tu bucket aún no existe**: Ejecuta la siguiente celda para crear tu bucket en Cloud Storage."
      ]
    },
    {
      "cell_type": "code",
      "metadata": {
        "deletable": true,
        "editable": true,
        "id": "160PRO3aJqLD",
        "colab": {
          "base_uri": "https://localhost:8080/"
        },
        "outputId": "42d3a2c7-b44d-4528-d208-6bb0f9db334d"
      },
      "source": [
        "! gsutil mb -l $REGION gs://$BUCKET_NAME"
      ],
      "execution_count": null,
      "outputs": [
        {
          "output_type": "stream",
          "name": "stdout",
          "text": [
            "Creating gs://puestaproduccionkcmarzo23-art/...\n"
          ]
        }
      ]
    },
    {
      "cell_type": "markdown",
      "metadata": {
        "id": "BiH1VHmqrVVE"
      },
      "source": [
        "Finalmente, validamos que tenemos acceso al bucket de Cloud Storage mirando sus contenidos:"
      ]
    },
    {
      "cell_type": "code",
      "metadata": {
        "deletable": true,
        "editable": true,
        "id": "OsB4T3sbSb2d",
        "colab": {
          "base_uri": "https://localhost:8080/"
        },
        "outputId": "c1532cba-4e2f-46b4-d322-78795449b574"
      },
      "source": [
        "! gsutil ls -al gs://$BUCKET_NAME"
      ],
      "execution_count": null,
      "outputs": [
        {
          "output_type": "stream",
          "name": "stdout",
          "text": [
            "                                 gs://puestaproduccionkcmarzo23-art/data/\n",
            "                                 gs://puestaproduccionkcmarzo23-art/twitter-sentiment-batch/\n"
          ]
        }
      ]
    },
    {
      "cell_type": "markdown",
      "source": [
        "Podemos comprobar esto de una manera más visual yéndonos a la interfaz de Google Cloud, buscando el apartado Cloud Storage y comprobando que el bucket se ha creado."
      ],
      "metadata": {
        "id": "2I2IOzMgkPL6"
      }
    },
    {
      "cell_type": "markdown",
      "metadata": {
        "id": "NnK-kOtZrjSv"
      },
      "source": [
        "## Descarga del Dataset y plantilla de código\n",
        "\n",
        "Ahora, nos descargaremos el Dataset de Twitter llamado Sentiment140, que contiene más de 1M de tweets clasificados por sentimiento entre otros datos para su clasificación, podéis consultar más información [aquí](http://help.sentiment140.com/for-students).\n",
        "\n",
        "Para la práctica sólo usaremos el campo `text` como feature de entrenamiento y `polarity` como label a predecir."
      ]
    },
    {
      "cell_type": "code",
      "metadata": {
        "id": "4H7yv62ksskL",
        "colab": {
          "base_uri": "https://localhost:8080/"
        },
        "outputId": "09daaade-fe11-4e18-a2c3-a976c552f546"
      },
      "source": [
        "!wget http://cs.stanford.edu/people/alecmgo/trainingandtestdata.zip -P ."
      ],
      "execution_count": null,
      "outputs": [
        {
          "output_type": "stream",
          "name": "stdout",
          "text": [
            "--2023-03-13 19:49:15--  http://cs.stanford.edu/people/alecmgo/trainingandtestdata.zip\n",
            "Resolving cs.stanford.edu (cs.stanford.edu)... 171.64.64.64\n",
            "Connecting to cs.stanford.edu (cs.stanford.edu)|171.64.64.64|:80... connected.\n",
            "HTTP request sent, awaiting response... 301 Moved Permanently\n",
            "Location: https://cs.stanford.edu/people/alecmgo/trainingandtestdata.zip [following]\n",
            "--2023-03-13 19:49:20--  https://cs.stanford.edu/people/alecmgo/trainingandtestdata.zip\n",
            "Connecting to cs.stanford.edu (cs.stanford.edu)|171.64.64.64|:443... connected.\n",
            "HTTP request sent, awaiting response... 200 OK\n",
            "Length: 81363704 (78M) [application/zip]\n",
            "Saving to: ‘./trainingandtestdata.zip’\n",
            "\n",
            "trainingandtestdata 100%[===================>]  77.59M  94.6MB/s    in 0.8s    \n",
            "\n",
            "2023-03-13 19:49:21 (94.6 MB/s) - ‘./trainingandtestdata.zip’ saved [81363704/81363704]\n",
            "\n"
          ]
        }
      ]
    },
    {
      "cell_type": "markdown",
      "metadata": {
        "id": "Yk1JOvZ2st7W"
      },
      "source": [
        "Por otro lado, nos descargaremos la plantilla de código que vamos a ir rellenando para el desarrollo de la práctica y establecemos el directorio como directorio de trabajo:"
      ]
    },
    {
      "cell_type": "code",
      "source": [
        "! git clone https://github.com/ArturoSanchezPalacio/TwitterBatch.git"
      ],
      "metadata": {
        "colab": {
          "base_uri": "https://localhost:8080/"
        },
        "id": "Z_43KXV3yI7H",
        "outputId": "387a0614-e986-4d6b-fa48-fbbdac332b10"
      },
      "execution_count": null,
      "outputs": [
        {
          "output_type": "stream",
          "name": "stdout",
          "text": [
            "Cloning into 'TwitterBatch'...\n",
            "remote: Enumerating objects: 11, done.\u001b[K\n",
            "remote: Counting objects: 100% (11/11), done.\u001b[K\n",
            "remote: Compressing objects: 100% (10/10), done.\u001b[K\n",
            "remote: Total 11 (delta 0), reused 11 (delta 0), pack-reused 0\u001b[K\n",
            "Unpacking objects: 100% (11/11), 2.18 KiB | 1.09 MiB/s, done.\n"
          ]
        }
      ]
    },
    {
      "cell_type": "code",
      "source": [
        "# Set the working directory to the sample code directory\n",
        "%cd TwitterBatch/twitter-sentiment-batch"
      ],
      "metadata": {
        "colab": {
          "base_uri": "https://localhost:8080/"
        },
        "id": "6uyac2Wqo7IT",
        "outputId": "2fd7ae1a-6be9-45ea-f8c4-4e3d001ec034"
      },
      "execution_count": null,
      "outputs": [
        {
          "output_type": "stream",
          "name": "stdout",
          "text": [
            "/content/TwitterBatch/twitter-sentiment-batch\n"
          ]
        }
      ]
    },
    {
      "cell_type": "code",
      "source": [
        "!ls"
      ],
      "metadata": {
        "colab": {
          "base_uri": "https://localhost:8080/"
        },
        "id": "5RxAaGrah_zC",
        "outputId": "f1feb848-0c19-4861-9575-6bb2645b488d"
      },
      "execution_count": null,
      "outputs": [
        {
          "output_type": "stream",
          "name": "stdout",
          "text": [
            "predict-inicial.py  preprocess_inicial.py  requirements.txt  setup.py  trainer\n"
          ]
        }
      ]
    },
    {
      "cell_type": "code",
      "source": [
        "from google.colab import drive\n",
        "drive.mount('/content/drive')"
      ],
      "metadata": {
        "colab": {
          "base_uri": "https://localhost:8080/"
        },
        "id": "p18p-2i9oMcd",
        "outputId": "5f1a4ae1-ca7c-41f6-8c15-5601bb5ce7d3"
      },
      "execution_count": null,
      "outputs": [
        {
          "output_type": "stream",
          "name": "stdout",
          "text": [
            "Mounted at /content/drive\n"
          ]
        }
      ]
    },
    {
      "cell_type": "markdown",
      "metadata": {
        "id": "5reYF1nntTQ1"
      },
      "source": [
        "Ahora, procedemos a descomprimir el dataset:"
      ]
    },
    {
      "cell_type": "code",
      "metadata": {
        "id": "VecRhdLfjhRm",
        "colab": {
          "base_uri": "https://localhost:8080/"
        },
        "outputId": "e856ad1e-448f-4a2b-9666-fa18a91656b7"
      },
      "source": [
        "! mkdir ./data && unzip /content/trainingandtestdata.zip -d ./data && rm /content/trainingandtestdata.zip"
      ],
      "execution_count": null,
      "outputs": [
        {
          "output_type": "stream",
          "name": "stdout",
          "text": [
            "Archive:  /content/trainingandtestdata.zip\n",
            "  inflating: ./data/testdata.manual.2009.06.14.csv  \n",
            "  inflating: ./data/training.1600000.processed.noemoticon.csv  \n"
          ]
        }
      ]
    },
    {
      "cell_type": "markdown",
      "metadata": {
        "id": "uIQBqjSqthMj"
      },
      "source": [
        "## Instalación de dependencias\n",
        "\n",
        "Ejecutamos la siguiente celda para instalar las dependencias de Python necesarias para entrenar el modelo localmente y preprocesar datos. \n",
        "\n",
        "Cuando ejecutemos el job de entrenamiento en AI Platform, las dependencias estarán instaladas en base a la [versión del runtime](https://cloud.google.com/ml-engine/docs/tensorflow/runtime-version-list) elegido."
      ]
    },
    {
      "cell_type": "code",
      "metadata": {
        "deletable": true,
        "editable": true,
        "id": "Wm5w1UrmVU7O",
        "colab": {
          "base_uri": "https://localhost:8080/"
        },
        "outputId": "e7e75142-f2ec-43f8-bcc5-8b95dba9d02e"
      },
      "source": [
        "! pip install -r requirements.txt"
      ],
      "execution_count": null,
      "outputs": [
        {
          "output_type": "stream",
          "name": "stdout",
          "text": [
            "Looking in indexes: https://pypi.org/simple, https://us-python.pkg.dev/colab-wheels/public/simple/\n",
            "\u001b[31mERROR: Operation cancelled by user\u001b[0m\u001b[31m\n",
            "\u001b[0m"
          ]
        }
      ]
    },
    {
      "cell_type": "code",
      "metadata": {
        "id": "bjcPYWRE4u45",
        "colab": {
          "base_uri": "https://localhost:8080/"
        },
        "outputId": "ce70c3e4-5dab-4b3b-a37f-67b4473f7d15"
      },
      "source": [
        "# Nos aseguramos que nuestras variables de entorno no hayan desaparecido al reiniciar el kernel\n",
        "\n",
        "print(f\"Project: {PROJECT_ID}\")\n",
        "print(f\"Region: {REGION}\")\n",
        "print(f\"Bucket: {BUCKET_NAME}\")"
      ],
      "execution_count": null,
      "outputs": [
        {
          "output_type": "stream",
          "name": "stdout",
          "text": [
            "Project: puestaproduccionkcmarzo23\n",
            "Region: europe-west1\n",
            "Bucket: puestaproduccionkcmarzo23-art\n"
          ]
        }
      ]
    },
    {
      "cell_type": "markdown",
      "metadata": {
        "id": "i4SJwYBTuPGX"
      },
      "source": [
        "# End-2-End en local\n",
        "\n",
        "Una vez tenemos todo configurado y entendemos los principios de Apache Beam vamos a comenzar con la productivización. Uno de los pilares principales es la automatización, por ello, vamos a automatizar a parametrizar las tres fases que vamos a tener, el preprocesamiento, el entrenamiento y la inferencia."
      ]
    },
    {
      "cell_type": "markdown",
      "metadata": {
        "deletable": true,
        "editable": true,
        "id": "7flODCDkh3s-"
      },
      "source": [
        "## Preprocesamiento\n",
        "\n",
        "Para el preprocesado vamos a utilizar Apache beam sobre el dataset en bruto para paralelizar el procesamiento y que sea lo más eficiente posible.\n",
        "\n",
        "Comenzamos estableciendo el directorio de trabajo:"
      ]
    },
    {
      "cell_type": "code",
      "source": [
        "!ls"
      ],
      "metadata": {
        "colab": {
          "base_uri": "https://localhost:8080/"
        },
        "id": "qACkTO5VrEn7",
        "outputId": "af2dc727-b00f-4cb0-ae18-d12c5a0115ec"
      },
      "execution_count": null,
      "outputs": [
        {
          "output_type": "stream",
          "name": "stdout",
          "text": [
            "data\t\t    preprocess_inicial.py  setup.py\n",
            "predict-inicial.py  requirements.txt\t   trainer\n"
          ]
        }
      ]
    },
    {
      "cell_type": "code",
      "metadata": {
        "id": "Gs86iFMlin3h"
      },
      "source": [
        "import os\n",
        "\n",
        "# Set the working directory to the sample code directory\n",
        "#%cd ./twitter-sentiment-analysis-batch/\n",
        "\n",
        "WORK_DIR = os.getcwd()"
      ],
      "execution_count": null,
      "outputs": []
    },
    {
      "cell_type": "code",
      "source": [
        "WORK_DIR"
      ],
      "metadata": {
        "colab": {
          "base_uri": "https://localhost:8080/",
          "height": 35
        },
        "id": "eHhPtMDp1eXK",
        "outputId": "0b1f4655-6216-4125-9677-eb7a75fe9792"
      },
      "execution_count": null,
      "outputs": [
        {
          "output_type": "execute_result",
          "data": {
            "text/plain": [
              "'/content/TwitterBatch/twitter-sentiment-batch'"
            ],
            "application/vnd.google.colaboratory.intrinsic+json": {
              "type": "string"
            }
          },
          "metadata": {},
          "execution_count": 24
        }
      ]
    },
    {
      "cell_type": "markdown",
      "source": [
        "Las dos próximas celdas representan los comandos que vamos a utilizar para lanzar respectivamente el preprocesamiento de los datos de entrenamiento y de los datos de test. Pero antes de hacerlo, necestiamos construir nuestro script preprocess.py."
      ],
      "metadata": {
        "id": "5wXtWzMurPrx"
      }
    },
    {
      "cell_type": "code",
      "metadata": {
        "id": "djC6k9sJiKHp",
        "colab": {
          "base_uri": "https://localhost:8080/"
        },
        "outputId": "3176cf38-c269-4efb-dd95-81a88a508a31"
      },
      "source": [
        "! python3 preprocess_inicial.py \\\n",
        "  --work-dir $WORK_DIR \\\n",
        "  --runner DirectRunner \\\n",
        "  --input $WORK_DIR/data/training*.csv \\\n",
        "  --output $WORK_DIR/data/transformed_data \\\n",
        "  --mode train"
      ],
      "execution_count": null,
      "outputs": [
        {
          "output_type": "stream",
          "name": "stdout",
          "text": [
            "[nltk_data] Downloading package stopwords to /root/nltk_data...\n",
            "[nltk_data]   Unzipping corpora/stopwords.zip.\n",
            "INFO:root:Default Python SDK image for environment is apache/beam_python3.9_sdk:2.46.0\n",
            "WARNING:apache_beam.runners.portability.fn_api_runner.fn_runner:If direct_num_workers is not equal to 1, direct_running_mode should be `multi_processing` or `multi_threading` instead of `in_memory` in order for it to have the desired worker parallelism effect. direct_num_workers: 2 ; running_mode: in_memory\n",
            "INFO:apache_beam.runners.portability.fn_api_runner.translations:==================== <function annotate_downstream_side_inputs at 0x7f9e9532f040> ====================\n",
            "INFO:apache_beam.runners.portability.fn_api_runner.translations:==================== <function fix_side_input_pcoll_coders at 0x7f9e9532f160> ====================\n",
            "INFO:apache_beam.runners.portability.fn_api_runner.translations:==================== <function pack_combiners at 0x7f9e9532f670> ====================\n",
            "INFO:apache_beam.runners.portability.fn_api_runner.translations:==================== <function lift_combiners at 0x7f9e9532f700> ====================\n",
            "INFO:apache_beam.runners.portability.fn_api_runner.translations:==================== <function expand_sdf at 0x7f9e9532f8b0> ====================\n",
            "INFO:apache_beam.runners.portability.fn_api_runner.translations:==================== <function expand_gbk at 0x7f9e9532f940> ====================\n",
            "INFO:apache_beam.runners.portability.fn_api_runner.translations:==================== <function sink_flattens at 0x7f9e9532fa60> ====================\n",
            "INFO:apache_beam.runners.portability.fn_api_runner.translations:==================== <function greedily_fuse at 0x7f9e9532faf0> ====================\n",
            "INFO:apache_beam.runners.portability.fn_api_runner.translations:==================== <function read_to_impulse at 0x7f9e9532fb80> ====================\n",
            "INFO:apache_beam.runners.portability.fn_api_runner.translations:==================== <function impulse_to_input at 0x7f9e9532fc10> ====================\n",
            "INFO:apache_beam.runners.portability.fn_api_runner.translations:==================== <function sort_stages at 0x7f9e9532fe50> ====================\n",
            "INFO:apache_beam.runners.portability.fn_api_runner.translations:==================== <function add_impulse_to_dangling_transforms at 0x7f9e9532ff70> ====================\n",
            "INFO:apache_beam.runners.portability.fn_api_runner.translations:==================== <function setup_timer_mapping at 0x7f9e9532fdc0> ====================\n",
            "INFO:apache_beam.runners.portability.fn_api_runner.translations:==================== <function populate_data_channel_coders at 0x7f9e9532fee0> ====================\n",
            "INFO:apache_beam.runners.worker.statecache:Creating state cache with size 104857600\n",
            "INFO:apache_beam.runners.portability.fn_api_runner.worker_handlers:Created Worker handler <apache_beam.runners.portability.fn_api_runner.worker_handlers.EmbeddedWorkerHandler object at 0x7f9e952de580> for environment ref_Environment_default_environment_1 (beam:env:embedded_python:v1, b'')\n",
            "INFO:apache_beam.runners.worker.statecache:Creating state cache with size 104857600\n",
            "INFO:apache_beam.runners.portability.fn_api_runner.worker_handlers:Created Worker handler <apache_beam.runners.portability.fn_api_runner.worker_handlers.EmbeddedWorkerHandler object at 0x7f9e952ce700> for environment ref_Environment_default_environment_1 (beam:env:embedded_python:v1, b'')\n",
            "INFO:root:Default Python SDK image for environment is apache/beam_python3.9_sdk:2.46.0\n",
            "INFO:root:Default Python SDK image for environment is apache/beam_python3.9_sdk:2.46.0\n",
            "INFO:root:Default Python SDK image for environment is apache/beam_python3.9_sdk:2.46.0\n",
            "INFO:root:Default Python SDK image for environment is apache/beam_python3.9_sdk:2.46.0\n",
            "INFO:root:Default Python SDK image for environment is apache/beam_python3.9_sdk:2.46.0\n",
            "INFO:root:Default Python SDK image for environment is apache/beam_python3.9_sdk:2.46.0\n",
            "INFO:root:Default Python SDK image for environment is apache/beam_python3.9_sdk:2.46.0\n",
            "INFO:root:Default Python SDK image for environment is apache/beam_python3.9_sdk:2.46.0\n",
            "INFO:root:Default Python SDK image for environment is apache/beam_python3.9_sdk:2.46.0\n",
            "INFO:root:Default Python SDK image for environment is apache/beam_python3.9_sdk:2.46.0\n",
            "INFO:root:Default Python SDK image for environment is apache/beam_python3.9_sdk:2.46.0\n",
            "INFO:root:Default Python SDK image for environment is apache/beam_python3.9_sdk:2.46.0\n",
            "INFO:root:Default Python SDK image for environment is apache/beam_python3.9_sdk:2.46.0\n",
            "INFO:root:Default Python SDK image for environment is apache/beam_python3.9_sdk:2.46.0\n",
            "INFO:root:Default Python SDK image for environment is apache/beam_python3.9_sdk:2.46.0\n",
            "INFO:root:Default Python SDK image for environment is apache/beam_python3.9_sdk:2.46.0\n",
            "INFO:root:Default Python SDK image for environment is apache/beam_python3.9_sdk:2.46.0\n",
            "INFO:root:Default Python SDK image for environment is apache/beam_python3.9_sdk:2.46.0\n",
            "INFO:apache_beam.io.filebasedsink:Starting finalize_write threads with num_shards: 2 (skipped: 0), batches: 2, num_threads: 2\n",
            "INFO:apache_beam.io.filebasedsink:Renamed 2 shards in 0.00 seconds.\n",
            "INFO:root:Default Python SDK image for environment is apache/beam_python3.9_sdk:2.46.0\n",
            "INFO:root:Default Python SDK image for environment is apache/beam_python3.9_sdk:2.46.0\n",
            "INFO:apache_beam.io.filebasedsink:Starting finalize_write threads with num_shards: 2 (skipped: 0), batches: 2, num_threads: 2\n",
            "INFO:apache_beam.io.filebasedsink:Renamed 2 shards in 0.00 seconds.\n"
          ]
        }
      ]
    },
    {
      "cell_type": "code",
      "metadata": {
        "id": "0vb48yqUUb63",
        "colab": {
          "base_uri": "https://localhost:8080/"
        },
        "outputId": "e29acd69-49b6-4912-82bc-43811fe1310d"
      },
      "source": [
        "! python3 preprocess_inicial.py \\\n",
        "  --work-dir $WORK_DIR \\\n",
        "  --runner DirectRunner \\\n",
        "  --input $WORK_DIR/data/test*.csv \\\n",
        "  --output $WORK_DIR/data/transformed_data \\\n",
        "  --mode test"
      ],
      "execution_count": null,
      "outputs": [
        {
          "output_type": "stream",
          "name": "stdout",
          "text": [
            "[nltk_data] Downloading package stopwords to /root/nltk_data...\n",
            "[nltk_data]   Package stopwords is already up-to-date!\n",
            "INFO:root:Default Python SDK image for environment is apache/beam_python3.9_sdk:2.46.0\n",
            "WARNING:apache_beam.runners.portability.fn_api_runner.fn_runner:If direct_num_workers is not equal to 1, direct_running_mode should be `multi_processing` or `multi_threading` instead of `in_memory` in order for it to have the desired worker parallelism effect. direct_num_workers: 2 ; running_mode: in_memory\n",
            "INFO:apache_beam.runners.portability.fn_api_runner.translations:==================== <function annotate_downstream_side_inputs at 0x7fbcf7c65040> ====================\n",
            "INFO:apache_beam.runners.portability.fn_api_runner.translations:==================== <function fix_side_input_pcoll_coders at 0x7fbcf7c65160> ====================\n",
            "INFO:apache_beam.runners.portability.fn_api_runner.translations:==================== <function pack_combiners at 0x7fbcf7c65670> ====================\n",
            "INFO:apache_beam.runners.portability.fn_api_runner.translations:==================== <function lift_combiners at 0x7fbcf7c65700> ====================\n",
            "INFO:apache_beam.runners.portability.fn_api_runner.translations:==================== <function expand_sdf at 0x7fbcf7c658b0> ====================\n",
            "INFO:apache_beam.runners.portability.fn_api_runner.translations:==================== <function expand_gbk at 0x7fbcf7c65940> ====================\n",
            "INFO:apache_beam.runners.portability.fn_api_runner.translations:==================== <function sink_flattens at 0x7fbcf7c65a60> ====================\n",
            "INFO:apache_beam.runners.portability.fn_api_runner.translations:==================== <function greedily_fuse at 0x7fbcf7c65af0> ====================\n",
            "INFO:apache_beam.runners.portability.fn_api_runner.translations:==================== <function read_to_impulse at 0x7fbcf7c65b80> ====================\n",
            "INFO:apache_beam.runners.portability.fn_api_runner.translations:==================== <function impulse_to_input at 0x7fbcf7c65c10> ====================\n",
            "INFO:apache_beam.runners.portability.fn_api_runner.translations:==================== <function sort_stages at 0x7fbcf7c65e50> ====================\n",
            "INFO:apache_beam.runners.portability.fn_api_runner.translations:==================== <function add_impulse_to_dangling_transforms at 0x7fbcf7c65f70> ====================\n",
            "INFO:apache_beam.runners.portability.fn_api_runner.translations:==================== <function setup_timer_mapping at 0x7fbcf7c65dc0> ====================\n",
            "INFO:apache_beam.runners.portability.fn_api_runner.translations:==================== <function populate_data_channel_coders at 0x7fbcf7c65ee0> ====================\n",
            "INFO:apache_beam.runners.worker.statecache:Creating state cache with size 104857600\n",
            "INFO:apache_beam.runners.portability.fn_api_runner.worker_handlers:Created Worker handler <apache_beam.runners.portability.fn_api_runner.worker_handlers.EmbeddedWorkerHandler object at 0x7fbcf7b41a00> for environment ref_Environment_default_environment_1 (beam:env:embedded_python:v1, b'')\n",
            "INFO:apache_beam.runners.worker.statecache:Creating state cache with size 104857600\n",
            "INFO:apache_beam.runners.portability.fn_api_runner.worker_handlers:Created Worker handler <apache_beam.runners.portability.fn_api_runner.worker_handlers.EmbeddedWorkerHandler object at 0x7fbcf7b3a310> for environment ref_Environment_default_environment_1 (beam:env:embedded_python:v1, b'')\n",
            "INFO:root:Default Python SDK image for environment is apache/beam_python3.9_sdk:2.46.0\n",
            "INFO:root:Default Python SDK image for environment is apache/beam_python3.9_sdk:2.46.0\n",
            "INFO:root:Default Python SDK image for environment is apache/beam_python3.9_sdk:2.46.0\n",
            "INFO:root:Default Python SDK image for environment is apache/beam_python3.9_sdk:2.46.0\n",
            "INFO:root:Default Python SDK image for environment is apache/beam_python3.9_sdk:2.46.0\n",
            "INFO:root:Default Python SDK image for environment is apache/beam_python3.9_sdk:2.46.0\n",
            "INFO:root:Default Python SDK image for environment is apache/beam_python3.9_sdk:2.46.0\n",
            "INFO:root:Default Python SDK image for environment is apache/beam_python3.9_sdk:2.46.0\n",
            "INFO:root:Default Python SDK image for environment is apache/beam_python3.9_sdk:2.46.0\n",
            "INFO:root:Default Python SDK image for environment is apache/beam_python3.9_sdk:2.46.0\n",
            "INFO:root:Default Python SDK image for environment is apache/beam_python3.9_sdk:2.46.0\n",
            "INFO:root:Default Python SDK image for environment is apache/beam_python3.9_sdk:2.46.0\n",
            "INFO:apache_beam.io.filebasedsink:Starting finalize_write threads with num_shards: 1 (skipped: 0), batches: 1, num_threads: 1\n",
            "INFO:apache_beam.io.filebasedsink:Renamed 1 shards in 0.00 seconds.\n"
          ]
        }
      ]
    },
    {
      "cell_type": "markdown",
      "metadata": {
        "deletable": true,
        "editable": true,
        "id": "iSrzwuchvcgv"
      },
      "source": [
        "## Entrenamiento del modelo\n",
        "\n",
        "Antes de entrenar el modelo en GCP a través de AI Platform, vamos a ejecutar en local para asegurarnos que el script funciona y el empaquetado es correcto.\n",
        "\n",
        "Para una ejecución que sea muy pesada, primero queremos probar sobre una pequeña porción del dataset para verificar la correcta ejecución antes de ejecutar en GCP con el dataset completo.\n",
        "\n",
        "Ejecuta la siguiente celda para entrenar el modelo localmente:"
      ]
    },
    {
      "cell_type": "code",
      "source": [
        "! pip install --upgrade numpy scipy pandas"
      ],
      "metadata": {
        "colab": {
          "base_uri": "https://localhost:8080/"
        },
        "id": "uOHpLU6E4NiL",
        "outputId": "0a9c39e0-4022-4b2a-d522-bae907b2c506"
      },
      "execution_count": null,
      "outputs": [
        {
          "output_type": "stream",
          "name": "stdout",
          "text": [
            "Looking in indexes: https://pypi.org/simple, https://us-python.pkg.dev/colab-wheels/public/simple/\n",
            "Requirement already satisfied: numpy in /usr/local/lib/python3.9/dist-packages (1.22.4)\n",
            "Collecting numpy\n",
            "  Downloading numpy-1.24.2-cp39-cp39-manylinux_2_17_x86_64.manylinux2014_x86_64.whl (17.3 MB)\n",
            "\u001b[2K     \u001b[90m━━━━━━━━━━━━━━━━━━━━━━━━━━━━━━━━━━━━━━━━\u001b[0m \u001b[32m17.3/17.3 MB\u001b[0m \u001b[31m74.6 MB/s\u001b[0m eta \u001b[36m0:00:00\u001b[0m\n",
            "\u001b[?25hRequirement already satisfied: scipy in /usr/local/lib/python3.9/dist-packages (1.10.1)\n",
            "Requirement already satisfied: pandas in /usr/local/lib/python3.9/dist-packages (1.4.4)\n",
            "Collecting pandas\n",
            "  Downloading pandas-1.5.3-cp39-cp39-manylinux_2_17_x86_64.manylinux2014_x86_64.whl (12.2 MB)\n",
            "\u001b[2K     \u001b[90m━━━━━━━━━━━━━━━━━━━━━━━━━━━━━━━━━━━━━━━━\u001b[0m \u001b[32m12.2/12.2 MB\u001b[0m \u001b[31m96.6 MB/s\u001b[0m eta \u001b[36m0:00:00\u001b[0m\n",
            "\u001b[?25hRequirement already satisfied: python-dateutil>=2.8.1 in /usr/local/lib/python3.9/dist-packages (from pandas) (2.8.2)\n",
            "Requirement already satisfied: pytz>=2020.1 in /usr/local/lib/python3.9/dist-packages (from pandas) (2022.7.1)\n",
            "Requirement already satisfied: six>=1.5 in /usr/local/lib/python3.9/dist-packages (from python-dateutil>=2.8.1->pandas) (1.15.0)\n",
            "Installing collected packages: numpy, pandas\n",
            "  Attempting uninstall: numpy\n",
            "    Found existing installation: numpy 1.22.4\n",
            "    Uninstalling numpy-1.22.4:\n",
            "      Successfully uninstalled numpy-1.22.4\n",
            "  Attempting uninstall: pandas\n",
            "    Found existing installation: pandas 1.4.4\n",
            "    Uninstalling pandas-1.4.4:\n",
            "      Successfully uninstalled pandas-1.4.4\n",
            "\u001b[31mERROR: pip's dependency resolver does not currently take into account all the packages that are installed. This behaviour is the source of the following dependency conflicts.\n",
            "numba 0.56.4 requires numpy<1.24,>=1.18, but you have numpy 1.24.2 which is incompatible.\u001b[0m\u001b[31m\n",
            "\u001b[0mSuccessfully installed numpy-1.24.2 pandas-1.5.3\n"
          ]
        }
      ]
    },
    {
      "cell_type": "markdown",
      "source": [
        "**Importante asegurarse de que nuestro entorno posee GPU o el proceso de entrenamiento tardará horas**"
      ],
      "metadata": {
        "id": "_5BF_dnh-sTJ"
      }
    },
    {
      "cell_type": "code",
      "metadata": {
        "deletable": true,
        "editable": true,
        "id": "D5PIljnYveDN",
        "colab": {
          "base_uri": "https://localhost:8080/"
        },
        "outputId": "a2928498-7fbf-41dc-99d7-32863d92a3ac"
      },
      "source": [
        "# Explicitly tell `gcloud ai-platform local train` to use Python 3 \n",
        "! gcloud config set ml_engine/local_python $(which python3)\n",
        "\n",
        "# This is similar to `python -m trainer.task --job-dir local-training-output`\n",
        "# but it better replicates the AI Platform environment, especially for\n",
        "# distributed training (not applicable here).\n",
        "! gcloud ai-platform local train \\\n",
        "  --package-path trainer \\\n",
        "  --module-name trainer.task \\\n",
        "  -- \\\n",
        "  --work-dir $WORK_DIR \\\n",
        "  --epochs 1"
      ],
      "execution_count": null,
      "outputs": [
        {
          "output_type": "stream",
          "name": "stdout",
          "text": [
            "Updated property [ml_engine/local_python].\n",
            "2023-03-13 20:48:22.368396: I tensorflow/core/platform/cpu_feature_guard.cc:193] This TensorFlow binary is optimized with oneAPI Deep Neural Network Library (oneDNN) to use the following CPU instructions in performance-critical operations:  AVX2 FMA\n",
            "To enable them in other operations, rebuild TensorFlow with the appropriate compiler flags.\n",
            "2023-03-13 20:48:23.684317: W tensorflow/compiler/xla/stream_executor/platform/default/dso_loader.cc:64] Could not load dynamic library 'libnvinfer.so.7'; dlerror: libnvinfer.so.7: cannot open shared object file: No such file or directory; LD_LIBRARY_PATH: /usr/lib64-nvidia\n",
            "2023-03-13 20:48:23.684478: W tensorflow/compiler/xla/stream_executor/platform/default/dso_loader.cc:64] Could not load dynamic library 'libnvinfer_plugin.so.7'; dlerror: libnvinfer_plugin.so.7: cannot open shared object file: No such file or directory; LD_LIBRARY_PATH: /usr/lib64-nvidia\n",
            "2023-03-13 20:48:23.684524: W tensorflow/compiler/tf2tensorrt/utils/py_utils.cc:38] TF-TRT Warning: Cannot dlopen some TensorRT libraries. If you would like to use Nvidia GPU with TensorRT, please make sure the missing libraries mentioned above are installed properly.\n",
            "INFO:tensorflow:TF_CONFIG environment variable: {'job': {'job_name': 'trainer.task', 'args': ['--work-dir', '/content/TwitterBatch/twitter-sentiment-batch', '--epochs', '1']}, 'task': {}, 'cluster': {}, 'environment': 'cloud'}\n",
            "INFO:root:---- Generating word2vec model ----\n",
            "INFO:gensim.models.word2vec:collecting all words and their counts\n",
            "INFO:gensim.models.word2vec:PROGRESS: at sentence #0, processed 0 words, keeping 0 word types\n",
            "INFO:gensim.models.word2vec:PROGRESS: at sentence #10000, processed 74113 words, keeping 13193 word types\n",
            "INFO:gensim.models.word2vec:PROGRESS: at sentence #20000, processed 147717 words, keeping 20147 word types\n",
            "INFO:gensim.models.word2vec:PROGRESS: at sentence #30000, processed 222464 words, keeping 25902 word types\n",
            "INFO:gensim.models.word2vec:PROGRESS: at sentence #40000, processed 297628 words, keeping 31024 word types\n",
            "INFO:gensim.models.word2vec:PROGRESS: at sentence #50000, processed 371839 words, keeping 35478 word types\n",
            "INFO:gensim.models.word2vec:PROGRESS: at sentence #60000, processed 445149 words, keeping 39491 word types\n",
            "INFO:gensim.models.word2vec:PROGRESS: at sentence #70000, processed 518272 words, keeping 43184 word types\n",
            "INFO:gensim.models.word2vec:PROGRESS: at sentence #80000, processed 593037 words, keeping 46895 word types\n",
            "INFO:gensim.models.word2vec:PROGRESS: at sentence #90000, processed 667628 words, keeping 50466 word types\n",
            "INFO:gensim.models.word2vec:PROGRESS: at sentence #100000, processed 741090 words, keeping 53651 word types\n",
            "INFO:gensim.models.word2vec:PROGRESS: at sentence #110000, processed 815879 words, keeping 56877 word types\n",
            "INFO:gensim.models.word2vec:PROGRESS: at sentence #120000, processed 889986 words, keeping 59881 word types\n",
            "INFO:gensim.models.word2vec:PROGRESS: at sentence #130000, processed 963440 words, keeping 62867 word types\n",
            "INFO:gensim.models.word2vec:PROGRESS: at sentence #140000, processed 1036767 words, keeping 65881 word types\n",
            "INFO:gensim.models.word2vec:PROGRESS: at sentence #150000, processed 1110774 words, keeping 68911 word types\n",
            "INFO:gensim.models.word2vec:PROGRESS: at sentence #160000, processed 1183626 words, keeping 71519 word types\n",
            "INFO:gensim.models.word2vec:PROGRESS: at sentence #170000, processed 1257245 words, keeping 74395 word types\n",
            "INFO:gensim.models.word2vec:PROGRESS: at sentence #180000, processed 1330156 words, keeping 76986 word types\n",
            "INFO:gensim.models.word2vec:PROGRESS: at sentence #190000, processed 1403768 words, keeping 79510 word types\n",
            "INFO:gensim.models.word2vec:PROGRESS: at sentence #200000, processed 1478346 words, keeping 82119 word types\n",
            "INFO:gensim.models.word2vec:PROGRESS: at sentence #210000, processed 1553081 words, keeping 84577 word types\n",
            "INFO:gensim.models.word2vec:PROGRESS: at sentence #220000, processed 1627170 words, keeping 86889 word types\n",
            "INFO:gensim.models.word2vec:PROGRESS: at sentence #230000, processed 1702046 words, keeping 89477 word types\n",
            "INFO:gensim.models.word2vec:PROGRESS: at sentence #240000, processed 1776187 words, keeping 91955 word types\n",
            "INFO:gensim.models.word2vec:PROGRESS: at sentence #250000, processed 1849810 words, keeping 94255 word types\n",
            "INFO:gensim.models.word2vec:PROGRESS: at sentence #260000, processed 1924462 words, keeping 96717 word types\n",
            "INFO:gensim.models.word2vec:PROGRESS: at sentence #270000, processed 1998201 words, keeping 98963 word types\n",
            "INFO:gensim.models.word2vec:PROGRESS: at sentence #280000, processed 2071823 words, keeping 101133 word types\n",
            "INFO:gensim.models.word2vec:PROGRESS: at sentence #290000, processed 2144716 words, keeping 103405 word types\n",
            "INFO:gensim.models.word2vec:PROGRESS: at sentence #300000, processed 2220281 words, keeping 105942 word types\n",
            "INFO:gensim.models.word2vec:PROGRESS: at sentence #310000, processed 2293640 words, keeping 108265 word types\n",
            "INFO:gensim.models.word2vec:PROGRESS: at sentence #320000, processed 2364330 words, keeping 111007 word types\n",
            "INFO:gensim.models.word2vec:PROGRESS: at sentence #330000, processed 2434451 words, keeping 113549 word types\n",
            "INFO:gensim.models.word2vec:PROGRESS: at sentence #340000, processed 2505968 words, keeping 116296 word types\n",
            "INFO:gensim.models.word2vec:PROGRESS: at sentence #350000, processed 2577556 words, keeping 118973 word types\n",
            "INFO:gensim.models.word2vec:PROGRESS: at sentence #360000, processed 2647815 words, keeping 121394 word types\n",
            "INFO:gensim.models.word2vec:PROGRESS: at sentence #370000, processed 2719797 words, keeping 124097 word types\n",
            "INFO:gensim.models.word2vec:PROGRESS: at sentence #380000, processed 2792458 words, keeping 126786 word types\n",
            "INFO:gensim.models.word2vec:PROGRESS: at sentence #390000, processed 2864396 words, keeping 129564 word types\n",
            "INFO:gensim.models.word2vec:PROGRESS: at sentence #400000, processed 2935986 words, keeping 132610 word types\n",
            "INFO:gensim.models.word2vec:PROGRESS: at sentence #410000, processed 3007069 words, keeping 135275 word types\n",
            "INFO:gensim.models.word2vec:PROGRESS: at sentence #420000, processed 3077546 words, keeping 137688 word types\n",
            "INFO:gensim.models.word2vec:PROGRESS: at sentence #430000, processed 3150203 words, keeping 140277 word types\n",
            "INFO:gensim.models.word2vec:PROGRESS: at sentence #440000, processed 3221687 words, keeping 142747 word types\n",
            "INFO:gensim.models.word2vec:PROGRESS: at sentence #450000, processed 3292421 words, keeping 145004 word types\n",
            "INFO:gensim.models.word2vec:PROGRESS: at sentence #460000, processed 3362932 words, keeping 147185 word types\n",
            "INFO:gensim.models.word2vec:PROGRESS: at sentence #470000, processed 3434060 words, keeping 149458 word types\n",
            "INFO:gensim.models.word2vec:PROGRESS: at sentence #480000, processed 3506153 words, keeping 151915 word types\n",
            "INFO:gensim.models.word2vec:PROGRESS: at sentence #490000, processed 3578028 words, keeping 154230 word types\n",
            "INFO:gensim.models.word2vec:PROGRESS: at sentence #500000, processed 3648386 words, keeping 156937 word types\n",
            "INFO:gensim.models.word2vec:PROGRESS: at sentence #510000, processed 3718893 words, keeping 159396 word types\n",
            "INFO:gensim.models.word2vec:PROGRESS: at sentence #520000, processed 3790245 words, keeping 161678 word types\n",
            "INFO:gensim.models.word2vec:PROGRESS: at sentence #530000, processed 3862488 words, keeping 164017 word types\n",
            "INFO:gensim.models.word2vec:PROGRESS: at sentence #540000, processed 3932889 words, keeping 166288 word types\n",
            "INFO:gensim.models.word2vec:PROGRESS: at sentence #550000, processed 4003610 words, keeping 168419 word types\n",
            "INFO:gensim.models.word2vec:PROGRESS: at sentence #560000, processed 4073731 words, keeping 170511 word types\n",
            "INFO:gensim.models.word2vec:PROGRESS: at sentence #570000, processed 4143389 words, keeping 172521 word types\n",
            "INFO:gensim.models.word2vec:PROGRESS: at sentence #580000, processed 4215171 words, keeping 174611 word types\n",
            "INFO:gensim.models.word2vec:PROGRESS: at sentence #590000, processed 4285618 words, keeping 176680 word types\n",
            "INFO:gensim.models.word2vec:PROGRESS: at sentence #600000, processed 4357991 words, keeping 179003 word types\n",
            "INFO:gensim.models.word2vec:PROGRESS: at sentence #610000, processed 4429180 words, keeping 181194 word types\n",
            "INFO:gensim.models.word2vec:PROGRESS: at sentence #620000, processed 4501811 words, keeping 182940 word types\n",
            "INFO:gensim.models.word2vec:PROGRESS: at sentence #630000, processed 4574445 words, keeping 184458 word types\n",
            "INFO:gensim.models.word2vec:PROGRESS: at sentence #640000, processed 4647269 words, keeping 186025 word types\n",
            "INFO:gensim.models.word2vec:PROGRESS: at sentence #650000, processed 4720420 words, keeping 187550 word types\n",
            "INFO:gensim.models.word2vec:PROGRESS: at sentence #660000, processed 4793846 words, keeping 189240 word types\n",
            "INFO:gensim.models.word2vec:PROGRESS: at sentence #670000, processed 4866877 words, keeping 190856 word types\n",
            "INFO:gensim.models.word2vec:PROGRESS: at sentence #680000, processed 4940515 words, keeping 192387 word types\n",
            "INFO:gensim.models.word2vec:PROGRESS: at sentence #690000, processed 5015141 words, keeping 193888 word types\n",
            "INFO:gensim.models.word2vec:PROGRESS: at sentence #700000, processed 5089372 words, keeping 195469 word types\n",
            "INFO:gensim.models.word2vec:PROGRESS: at sentence #710000, processed 5161220 words, keeping 197023 word types\n",
            "INFO:gensim.models.word2vec:PROGRESS: at sentence #720000, processed 5234509 words, keeping 198659 word types\n",
            "INFO:gensim.models.word2vec:PROGRESS: at sentence #730000, processed 5308574 words, keeping 200085 word types\n",
            "INFO:gensim.models.word2vec:PROGRESS: at sentence #740000, processed 5381340 words, keeping 201464 word types\n",
            "INFO:gensim.models.word2vec:PROGRESS: at sentence #750000, processed 5455894 words, keeping 203009 word types\n",
            "INFO:gensim.models.word2vec:PROGRESS: at sentence #760000, processed 5529986 words, keeping 204434 word types\n",
            "INFO:gensim.models.word2vec:PROGRESS: at sentence #770000, processed 5602969 words, keeping 205845 word types\n",
            "INFO:gensim.models.word2vec:PROGRESS: at sentence #780000, processed 5676399 words, keeping 207263 word types\n",
            "INFO:gensim.models.word2vec:PROGRESS: at sentence #790000, processed 5749798 words, keeping 208853 word types\n",
            "INFO:gensim.models.word2vec:PROGRESS: at sentence #800000, processed 5822664 words, keeping 210363 word types\n",
            "INFO:gensim.models.word2vec:PROGRESS: at sentence #810000, processed 5895186 words, keeping 211808 word types\n",
            "INFO:gensim.models.word2vec:PROGRESS: at sentence #820000, processed 5968232 words, keeping 213299 word types\n",
            "INFO:gensim.models.word2vec:PROGRESS: at sentence #830000, processed 6042332 words, keeping 214920 word types\n",
            "INFO:gensim.models.word2vec:PROGRESS: at sentence #840000, processed 6115413 words, keeping 216408 word types\n",
            "INFO:gensim.models.word2vec:PROGRESS: at sentence #850000, processed 6188407 words, keeping 217818 word types\n",
            "INFO:gensim.models.word2vec:PROGRESS: at sentence #860000, processed 6262904 words, keeping 219397 word types\n",
            "INFO:gensim.models.word2vec:PROGRESS: at sentence #870000, processed 6336796 words, keeping 220944 word types\n",
            "INFO:gensim.models.word2vec:PROGRESS: at sentence #880000, processed 6411910 words, keeping 222585 word types\n",
            "INFO:gensim.models.word2vec:PROGRESS: at sentence #890000, processed 6487824 words, keeping 224232 word types\n",
            "INFO:gensim.models.word2vec:PROGRESS: at sentence #900000, processed 6561692 words, keeping 225783 word types\n",
            "INFO:gensim.models.word2vec:PROGRESS: at sentence #910000, processed 6634949 words, keeping 227342 word types\n",
            "INFO:gensim.models.word2vec:PROGRESS: at sentence #920000, processed 6709821 words, keeping 228982 word types\n",
            "INFO:gensim.models.word2vec:PROGRESS: at sentence #930000, processed 6782939 words, keeping 230532 word types\n",
            "INFO:gensim.models.word2vec:PROGRESS: at sentence #940000, processed 6856148 words, keeping 231923 word types\n",
            "INFO:gensim.models.word2vec:PROGRESS: at sentence #950000, processed 6927226 words, keeping 233541 word types\n",
            "INFO:gensim.models.word2vec:PROGRESS: at sentence #960000, processed 6997565 words, keeping 235351 word types\n",
            "INFO:gensim.models.word2vec:PROGRESS: at sentence #970000, processed 7069699 words, keeping 237208 word types\n",
            "INFO:gensim.models.word2vec:PROGRESS: at sentence #980000, processed 7141871 words, keeping 239088 word types\n",
            "INFO:gensim.models.word2vec:PROGRESS: at sentence #990000, processed 7213423 words, keeping 240849 word types\n",
            "INFO:gensim.models.word2vec:PROGRESS: at sentence #1000000, processed 7284110 words, keeping 242479 word types\n",
            "INFO:gensim.models.word2vec:PROGRESS: at sentence #1010000, processed 7355629 words, keeping 244160 word types\n",
            "INFO:gensim.models.word2vec:PROGRESS: at sentence #1020000, processed 7427355 words, keeping 245763 word types\n",
            "INFO:gensim.models.word2vec:PROGRESS: at sentence #1030000, processed 7498948 words, keeping 247475 word types\n",
            "INFO:gensim.models.word2vec:PROGRESS: at sentence #1040000, processed 7570666 words, keeping 249571 word types\n",
            "INFO:gensim.models.word2vec:PROGRESS: at sentence #1050000, processed 7640828 words, keeping 251529 word types\n",
            "INFO:gensim.models.word2vec:PROGRESS: at sentence #1060000, processed 7710248 words, keeping 253448 word types\n",
            "INFO:gensim.models.word2vec:PROGRESS: at sentence #1070000, processed 7781353 words, keeping 255311 word types\n",
            "INFO:gensim.models.word2vec:PROGRESS: at sentence #1080000, processed 7852936 words, keeping 257243 word types\n",
            "INFO:gensim.models.word2vec:PROGRESS: at sentence #1090000, processed 7924107 words, keeping 259000 word types\n",
            "INFO:gensim.models.word2vec:PROGRESS: at sentence #1100000, processed 7993131 words, keeping 260669 word types\n",
            "INFO:gensim.models.word2vec:PROGRESS: at sentence #1110000, processed 8063337 words, keeping 262308 word types\n",
            "INFO:gensim.models.word2vec:PROGRESS: at sentence #1120000, processed 8133061 words, keeping 263948 word types\n",
            "INFO:gensim.models.word2vec:PROGRESS: at sentence #1130000, processed 8203585 words, keeping 265661 word types\n",
            "INFO:gensim.models.word2vec:PROGRESS: at sentence #1140000, processed 8274946 words, keeping 267317 word types\n",
            "INFO:gensim.models.word2vec:PROGRESS: at sentence #1150000, processed 8346308 words, keeping 269158 word types\n",
            "INFO:gensim.models.word2vec:PROGRESS: at sentence #1160000, processed 8417871 words, keeping 270863 word types\n",
            "INFO:gensim.models.word2vec:PROGRESS: at sentence #1170000, processed 8489603 words, keeping 272617 word types\n",
            "INFO:gensim.models.word2vec:PROGRESS: at sentence #1180000, processed 8561082 words, keeping 274483 word types\n",
            "INFO:gensim.models.word2vec:PROGRESS: at sentence #1190000, processed 8632042 words, keeping 276286 word types\n",
            "INFO:gensim.models.word2vec:PROGRESS: at sentence #1200000, processed 8704038 words, keeping 278080 word types\n",
            "INFO:gensim.models.word2vec:PROGRESS: at sentence #1210000, processed 8774986 words, keeping 279812 word types\n",
            "INFO:gensim.models.word2vec:PROGRESS: at sentence #1220000, processed 8846095 words, keeping 281364 word types\n",
            "INFO:gensim.models.word2vec:PROGRESS: at sentence #1230000, processed 8915791 words, keeping 282982 word types\n",
            "INFO:gensim.models.word2vec:PROGRESS: at sentence #1240000, processed 8985821 words, keeping 284592 word types\n",
            "INFO:gensim.models.word2vec:PROGRESS: at sentence #1250000, processed 9057676 words, keeping 286488 word types\n",
            "INFO:gensim.models.word2vec:PROGRESS: at sentence #1260000, processed 9129576 words, keeping 288255 word types\n",
            "INFO:gensim.models.word2vec:PROGRESS: at sentence #1270000, processed 9201072 words, keeping 289897 word types\n",
            "INFO:gensim.models.word2vec:collected 290525 word types from a corpus of 9232621 raw words and 1274333 sentences\n",
            "INFO:gensim.models.word2vec:Loading a fresh vocabulary\n",
            "INFO:gensim.models.word2vec:effective_min_count=10 retains 30354 unique words (10% of original 290525, drops 260171)\n",
            "INFO:gensim.models.word2vec:effective_min_count=10 leaves 8786115 word corpus (95% of original 9232621, drops 446506)\n",
            "INFO:gensim.models.word2vec:deleting the raw counts dictionary of 290525 items\n",
            "INFO:gensim.models.word2vec:sample=0.001 downsamples 44 most-common words\n",
            "INFO:gensim.models.word2vec:downsampling leaves estimated 8228256 word corpus (93.7% of prior 8786115)\n",
            "INFO:gensim.models.base_any2vec:estimated required memory for 30354 words and 300 dimensions: 88026600 bytes\n",
            "INFO:gensim.models.word2vec:resetting layer weights\n",
            "INFO:root:Vocab size: 30354\n",
            "INFO:gensim.models.base_any2vec:training model with 2 workers on 30354 vocabulary and 300 features, using sg=0 hs=0 sample=0.001 negative=5 window=7\n",
            "INFO:gensim.models.base_any2vec:EPOCH 1 - PROGRESS: at 4.97% examples, 413436 words/s, in_qsize 4, out_qsize 0\n",
            "INFO:gensim.models.base_any2vec:EPOCH 1 - PROGRESS: at 8.78% examples, 366287 words/s, in_qsize 3, out_qsize 0\n",
            "INFO:gensim.models.base_any2vec:EPOCH 1 - PROGRESS: at 14.33% examples, 399291 words/s, in_qsize 3, out_qsize 0\n",
            "INFO:gensim.models.base_any2vec:EPOCH 1 - PROGRESS: at 19.72% examples, 412238 words/s, in_qsize 3, out_qsize 0\n",
            "INFO:gensim.models.base_any2vec:EPOCH 1 - PROGRESS: at 25.05% examples, 418338 words/s, in_qsize 4, out_qsize 0\n",
            "INFO:gensim.models.base_any2vec:EPOCH 1 - PROGRESS: at 30.76% examples, 424451 words/s, in_qsize 4, out_qsize 0\n",
            "INFO:gensim.models.base_any2vec:EPOCH 1 - PROGRESS: at 36.50% examples, 427897 words/s, in_qsize 3, out_qsize 0\n",
            "INFO:gensim.models.base_any2vec:EPOCH 1 - PROGRESS: at 42.21% examples, 430770 words/s, in_qsize 3, out_qsize 0\n",
            "INFO:gensim.models.base_any2vec:EPOCH 1 - PROGRESS: at 47.97% examples, 432586 words/s, in_qsize 3, out_qsize 0\n",
            "INFO:gensim.models.base_any2vec:EPOCH 1 - PROGRESS: at 51.20% examples, 416349 words/s, in_qsize 2, out_qsize 1\n",
            "INFO:gensim.models.base_any2vec:EPOCH 1 - PROGRESS: at 54.38% examples, 402739 words/s, in_qsize 3, out_qsize 0\n",
            "INFO:gensim.models.base_any2vec:EPOCH 1 - PROGRESS: at 57.28% examples, 388737 words/s, in_qsize 4, out_qsize 0\n",
            "INFO:gensim.models.base_any2vec:EPOCH 1 - PROGRESS: at 59.94% examples, 375437 words/s, in_qsize 3, out_qsize 0\n",
            "INFO:gensim.models.base_any2vec:EPOCH 1 - PROGRESS: at 62.83% examples, 365933 words/s, in_qsize 4, out_qsize 1\n",
            "INFO:gensim.models.base_any2vec:EPOCH 1 - PROGRESS: at 65.94% examples, 358535 words/s, in_qsize 3, out_qsize 0\n",
            "INFO:gensim.models.base_any2vec:EPOCH 1 - PROGRESS: at 68.80% examples, 350636 words/s, in_qsize 3, out_qsize 0\n",
            "INFO:gensim.models.base_any2vec:EPOCH 1 - PROGRESS: at 72.81% examples, 350015 words/s, in_qsize 3, out_qsize 0\n",
            "INFO:gensim.models.base_any2vec:EPOCH 1 - PROGRESS: at 78.39% examples, 355677 words/s, in_qsize 3, out_qsize 0\n",
            "INFO:gensim.models.base_any2vec:EPOCH 1 - PROGRESS: at 84.24% examples, 361453 words/s, in_qsize 3, out_qsize 0\n",
            "INFO:gensim.models.base_any2vec:EPOCH 1 - PROGRESS: at 88.93% examples, 361771 words/s, in_qsize 3, out_qsize 0\n",
            "INFO:gensim.models.base_any2vec:EPOCH 1 - PROGRESS: at 91.89% examples, 355601 words/s, in_qsize 4, out_qsize 1\n",
            "INFO:gensim.models.base_any2vec:EPOCH 1 - PROGRESS: at 95.29% examples, 351381 words/s, in_qsize 3, out_qsize 0\n",
            "INFO:gensim.models.base_any2vec:EPOCH 1 - PROGRESS: at 98.73% examples, 347094 words/s, in_qsize 3, out_qsize 0\n",
            "INFO:gensim.models.base_any2vec:worker thread finished; awaiting finish of 1 more threads\n",
            "INFO:gensim.models.base_any2vec:worker thread finished; awaiting finish of 0 more threads\n",
            "INFO:gensim.models.base_any2vec:EPOCH - 1 : training on 9232621 raw words (8228267 effective words) took 23.8s, 345781 effective words/s\n",
            "INFO:gensim.models.base_any2vec:EPOCH 2 - PROGRESS: at 2.74% examples, 231026 words/s, in_qsize 3, out_qsize 0\n",
            "INFO:gensim.models.base_any2vec:EPOCH 2 - PROGRESS: at 5.51% examples, 231458 words/s, in_qsize 4, out_qsize 1\n",
            "INFO:gensim.models.base_any2vec:EPOCH 2 - PROGRESS: at 8.99% examples, 248690 words/s, in_qsize 2, out_qsize 1\n",
            "INFO:gensim.models.base_any2vec:EPOCH 2 - PROGRESS: at 12.29% examples, 252997 words/s, in_qsize 4, out_qsize 1\n",
            "INFO:gensim.models.base_any2vec:EPOCH 2 - PROGRESS: at 15.29% examples, 250956 words/s, in_qsize 3, out_qsize 0\n",
            "INFO:gensim.models.base_any2vec:EPOCH 2 - PROGRESS: at 18.23% examples, 248768 words/s, in_qsize 3, out_qsize 0\n",
            "INFO:gensim.models.base_any2vec:EPOCH 2 - PROGRESS: at 21.20% examples, 248711 words/s, in_qsize 3, out_qsize 0\n",
            "INFO:gensim.models.base_any2vec:EPOCH 2 - PROGRESS: at 24.06% examples, 247843 words/s, in_qsize 3, out_qsize 0\n",
            "INFO:gensim.models.base_any2vec:EPOCH 2 - PROGRESS: at 27.16% examples, 246198 words/s, in_qsize 3, out_qsize 0\n",
            "INFO:gensim.models.base_any2vec:EPOCH 2 - PROGRESS: at 30.54% examples, 248746 words/s, in_qsize 3, out_qsize 0\n",
            "INFO:gensim.models.base_any2vec:EPOCH 2 - PROGRESS: at 36.16% examples, 266349 words/s, in_qsize 3, out_qsize 0\n",
            "INFO:gensim.models.base_any2vec:EPOCH 2 - PROGRESS: at 41.88% examples, 281405 words/s, in_qsize 3, out_qsize 0\n",
            "INFO:gensim.models.base_any2vec:EPOCH 2 - PROGRESS: at 47.63% examples, 294461 words/s, in_qsize 3, out_qsize 0\n",
            "INFO:gensim.models.base_any2vec:EPOCH 2 - PROGRESS: at 53.12% examples, 305628 words/s, in_qsize 3, out_qsize 0\n",
            "INFO:gensim.models.base_any2vec:EPOCH 2 - PROGRESS: at 58.35% examples, 313689 words/s, in_qsize 3, out_qsize 0\n",
            "INFO:gensim.models.base_any2vec:EPOCH 2 - PROGRESS: at 63.70% examples, 321645 words/s, in_qsize 3, out_qsize 0\n",
            "INFO:gensim.models.base_any2vec:EPOCH 2 - PROGRESS: at 69.01% examples, 328806 words/s, in_qsize 3, out_qsize 0\n",
            "INFO:gensim.models.base_any2vec:EPOCH 2 - PROGRESS: at 74.43% examples, 335564 words/s, in_qsize 3, out_qsize 0\n",
            "INFO:gensim.models.base_any2vec:EPOCH 2 - PROGRESS: at 80.04% examples, 341399 words/s, in_qsize 3, out_qsize 0\n",
            "INFO:gensim.models.base_any2vec:EPOCH 2 - PROGRESS: at 85.23% examples, 344461 words/s, in_qsize 3, out_qsize 0\n",
            "INFO:gensim.models.base_any2vec:EPOCH 2 - PROGRESS: at 88.48% examples, 339471 words/s, in_qsize 4, out_qsize 1\n",
            "INFO:gensim.models.base_any2vec:EPOCH 2 - PROGRESS: at 91.67% examples, 335671 words/s, in_qsize 3, out_qsize 0\n",
            "INFO:gensim.models.base_any2vec:EPOCH 2 - PROGRESS: at 94.86% examples, 331247 words/s, in_qsize 4, out_qsize 1\n",
            "INFO:gensim.models.base_any2vec:EPOCH 2 - PROGRESS: at 97.96% examples, 327076 words/s, in_qsize 3, out_qsize 0\n",
            "INFO:gensim.models.base_any2vec:worker thread finished; awaiting finish of 1 more threads\n",
            "INFO:gensim.models.base_any2vec:worker thread finished; awaiting finish of 0 more threads\n",
            "INFO:gensim.models.base_any2vec:EPOCH - 2 : training on 9232621 raw words (8229142 effective words) took 25.3s, 325196 effective words/s\n",
            "INFO:gensim.models.base_any2vec:EPOCH 3 - PROGRESS: at 2.64% examples, 223070 words/s, in_qsize 3, out_qsize 0\n",
            "INFO:gensim.models.base_any2vec:EPOCH 3 - PROGRESS: at 5.61% examples, 236707 words/s, in_qsize 3, out_qsize 0\n",
            "INFO:gensim.models.base_any2vec:EPOCH 3 - PROGRESS: at 10.91% examples, 307036 words/s, in_qsize 3, out_qsize 0\n",
            "INFO:gensim.models.base_any2vec:EPOCH 3 - PROGRESS: at 16.44% examples, 345102 words/s, in_qsize 3, out_qsize 0\n",
            "INFO:gensim.models.base_any2vec:EPOCH 3 - PROGRESS: at 21.73% examples, 365120 words/s, in_qsize 3, out_qsize 0\n",
            "INFO:gensim.models.base_any2vec:EPOCH 3 - PROGRESS: at 27.37% examples, 379416 words/s, in_qsize 3, out_qsize 0\n",
            "INFO:gensim.models.base_any2vec:EPOCH 3 - PROGRESS: at 33.08% examples, 389857 words/s, in_qsize 3, out_qsize 0\n",
            "INFO:gensim.models.base_any2vec:EPOCH 3 - PROGRESS: at 38.79% examples, 397501 words/s, in_qsize 4, out_qsize 0\n",
            "INFO:gensim.models.base_any2vec:EPOCH 3 - PROGRESS: at 44.56% examples, 403961 words/s, in_qsize 3, out_qsize 0\n",
            "INFO:gensim.models.base_any2vec:EPOCH 3 - PROGRESS: at 50.23% examples, 409159 words/s, in_qsize 3, out_qsize 0\n",
            "INFO:gensim.models.base_any2vec:EPOCH 3 - PROGRESS: at 55.79% examples, 413891 words/s, in_qsize 3, out_qsize 0\n",
            "INFO:gensim.models.base_any2vec:EPOCH 3 - PROGRESS: at 60.80% examples, 414367 words/s, in_qsize 4, out_qsize 0\n",
            "INFO:gensim.models.base_any2vec:EPOCH 3 - PROGRESS: at 63.70% examples, 400687 words/s, in_qsize 2, out_qsize 1\n",
            "INFO:gensim.models.base_any2vec:EPOCH 3 - PROGRESS: at 66.69% examples, 389090 words/s, in_qsize 3, out_qsize 0\n",
            "INFO:gensim.models.base_any2vec:EPOCH 3 - PROGRESS: at 69.63% examples, 379615 words/s, in_qsize 2, out_qsize 1\n",
            "INFO:gensim.models.base_any2vec:EPOCH 3 - PROGRESS: at 72.49% examples, 371072 words/s, in_qsize 2, out_qsize 0\n",
            "INFO:gensim.models.base_any2vec:EPOCH 3 - PROGRESS: at 75.33% examples, 362632 words/s, in_qsize 3, out_qsize 0\n",
            "INFO:gensim.models.base_any2vec:EPOCH 3 - PROGRESS: at 78.28% examples, 355528 words/s, in_qsize 3, out_qsize 0\n",
            "INFO:gensim.models.base_any2vec:EPOCH 3 - PROGRESS: at 82.80% examples, 355438 words/s, in_qsize 3, out_qsize 0\n",
            "INFO:gensim.models.base_any2vec:EPOCH 3 - PROGRESS: at 87.14% examples, 354209 words/s, in_qsize 2, out_qsize 1\n",
            "INFO:gensim.models.base_any2vec:EPOCH 3 - PROGRESS: at 90.24% examples, 348125 words/s, in_qsize 3, out_qsize 0\n",
            "INFO:gensim.models.base_any2vec:EPOCH 3 - PROGRESS: at 93.32% examples, 342578 words/s, in_qsize 3, out_qsize 0\n",
            "INFO:gensim.models.base_any2vec:EPOCH 3 - PROGRESS: at 96.41% examples, 337790 words/s, in_qsize 2, out_qsize 1\n",
            "INFO:gensim.models.base_any2vec:EPOCH 3 - PROGRESS: at 99.50% examples, 333856 words/s, in_qsize 3, out_qsize 0\n",
            "INFO:gensim.models.base_any2vec:worker thread finished; awaiting finish of 1 more threads\n",
            "INFO:gensim.models.base_any2vec:worker thread finished; awaiting finish of 0 more threads\n",
            "INFO:gensim.models.base_any2vec:EPOCH - 3 : training on 9232621 raw words (8227833 effective words) took 24.6s, 333806 effective words/s\n",
            "INFO:gensim.models.base_any2vec:EPOCH 4 - PROGRESS: at 2.85% examples, 241521 words/s, in_qsize 4, out_qsize 0\n",
            "INFO:gensim.models.base_any2vec:EPOCH 4 - PROGRESS: at 6.45% examples, 268532 words/s, in_qsize 3, out_qsize 0\n",
            "INFO:gensim.models.base_any2vec:EPOCH 4 - PROGRESS: at 11.87% examples, 330452 words/s, in_qsize 3, out_qsize 0\n",
            "INFO:gensim.models.base_any2vec:EPOCH 4 - PROGRESS: at 17.29% examples, 359429 words/s, in_qsize 3, out_qsize 0\n",
            "INFO:gensim.models.base_any2vec:EPOCH 4 - PROGRESS: at 20.35% examples, 338875 words/s, in_qsize 3, out_qsize 0\n",
            "INFO:gensim.models.base_any2vec:EPOCH 4 - PROGRESS: at 23.12% examples, 320842 words/s, in_qsize 4, out_qsize 1\n",
            "INFO:gensim.models.base_any2vec:EPOCH 4 - PROGRESS: at 26.16% examples, 309374 words/s, in_qsize 3, out_qsize 0\n",
            "INFO:gensim.models.base_any2vec:EPOCH 4 - PROGRESS: at 29.02% examples, 299512 words/s, in_qsize 3, out_qsize 0\n",
            "INFO:gensim.models.base_any2vec:EPOCH 4 - PROGRESS: at 32.08% examples, 292769 words/s, in_qsize 3, out_qsize 0\n",
            "INFO:gensim.models.base_any2vec:EPOCH 4 - PROGRESS: at 35.16% examples, 287980 words/s, in_qsize 3, out_qsize 0\n",
            "INFO:gensim.models.base_any2vec:EPOCH 4 - PROGRESS: at 38.79% examples, 288067 words/s, in_qsize 3, out_qsize 0\n",
            "INFO:gensim.models.base_any2vec:EPOCH 4 - PROGRESS: at 44.45% examples, 301199 words/s, in_qsize 3, out_qsize 0\n",
            "INFO:gensim.models.base_any2vec:EPOCH 4 - PROGRESS: at 50.02% examples, 312423 words/s, in_qsize 3, out_qsize 0\n",
            "INFO:gensim.models.base_any2vec:EPOCH 4 - PROGRESS: at 55.45% examples, 322448 words/s, in_qsize 3, out_qsize 0\n",
            "INFO:gensim.models.base_any2vec:EPOCH 4 - PROGRESS: at 60.91% examples, 331319 words/s, in_qsize 3, out_qsize 0\n",
            "INFO:gensim.models.base_any2vec:EPOCH 4 - PROGRESS: at 66.37% examples, 338971 words/s, in_qsize 3, out_qsize 0\n",
            "INFO:gensim.models.base_any2vec:EPOCH 4 - PROGRESS: at 71.75% examples, 345407 words/s, in_qsize 3, out_qsize 0\n",
            "INFO:gensim.models.base_any2vec:EPOCH 4 - PROGRESS: at 77.40% examples, 351734 words/s, in_qsize 3, out_qsize 0\n",
            "INFO:gensim.models.base_any2vec:EPOCH 4 - PROGRESS: at 83.03% examples, 356755 words/s, in_qsize 3, out_qsize 0\n",
            "INFO:gensim.models.base_any2vec:EPOCH 4 - PROGRESS: at 88.49% examples, 360377 words/s, in_qsize 3, out_qsize 0\n",
            "INFO:gensim.models.base_any2vec:EPOCH 4 - PROGRESS: at 93.43% examples, 361985 words/s, in_qsize 3, out_qsize 0\n",
            "INFO:gensim.models.base_any2vec:EPOCH 4 - PROGRESS: at 96.76% examples, 357443 words/s, in_qsize 3, out_qsize 0\n",
            "INFO:gensim.models.base_any2vec:EPOCH 4 - PROGRESS: at 99.83% examples, 352509 words/s, in_qsize 2, out_qsize 0\n",
            "INFO:gensim.models.base_any2vec:worker thread finished; awaiting finish of 1 more threads\n",
            "INFO:gensim.models.base_any2vec:worker thread finished; awaiting finish of 0 more threads\n",
            "INFO:gensim.models.base_any2vec:EPOCH - 4 : training on 9232621 raw words (8227977 effective words) took 23.3s, 352788 effective words/s\n",
            "INFO:gensim.models.base_any2vec:EPOCH 5 - PROGRESS: at 3.06% examples, 253900 words/s, in_qsize 3, out_qsize 0\n",
            "INFO:gensim.models.base_any2vec:EPOCH 5 - PROGRESS: at 5.92% examples, 247543 words/s, in_qsize 3, out_qsize 0\n",
            "INFO:gensim.models.base_any2vec:EPOCH 5 - PROGRESS: at 8.67% examples, 242659 words/s, in_qsize 3, out_qsize 0\n",
            "INFO:gensim.models.base_any2vec:EPOCH 5 - PROGRESS: at 11.55% examples, 241772 words/s, in_qsize 3, out_qsize 0\n",
            "INFO:gensim.models.base_any2vec:EPOCH 5 - PROGRESS: at 15.39% examples, 256675 words/s, in_qsize 3, out_qsize 0\n",
            "INFO:gensim.models.base_any2vec:EPOCH 5 - PROGRESS: at 20.88% examples, 290630 words/s, in_qsize 3, out_qsize 0\n",
            "INFO:gensim.models.base_any2vec:EPOCH 5 - PROGRESS: at 26.38% examples, 313117 words/s, in_qsize 3, out_qsize 0\n",
            "INFO:gensim.models.base_any2vec:EPOCH 5 - PROGRESS: at 32.08% examples, 330040 words/s, in_qsize 3, out_qsize 0\n",
            "INFO:gensim.models.base_any2vec:EPOCH 5 - PROGRESS: at 37.69% examples, 343003 words/s, in_qsize 3, out_qsize 0\n",
            "INFO:gensim.models.base_any2vec:EPOCH 5 - PROGRESS: at 43.32% examples, 353300 words/s, in_qsize 4, out_qsize 0\n",
            "INFO:gensim.models.base_any2vec:EPOCH 5 - PROGRESS: at 48.83% examples, 361230 words/s, in_qsize 3, out_qsize 0\n",
            "INFO:gensim.models.base_any2vec:EPOCH 5 - PROGRESS: at 54.38% examples, 369376 words/s, in_qsize 3, out_qsize 0\n",
            "INFO:gensim.models.base_any2vec:EPOCH 5 - PROGRESS: at 59.83% examples, 375524 words/s, in_qsize 3, out_qsize 0\n",
            "INFO:gensim.models.base_any2vec:EPOCH 5 - PROGRESS: at 65.19% examples, 379805 words/s, in_qsize 3, out_qsize 0\n",
            "INFO:gensim.models.base_any2vec:EPOCH 5 - PROGRESS: at 69.32% examples, 376283 words/s, in_qsize 4, out_qsize 1\n",
            "INFO:gensim.models.base_any2vec:EPOCH 5 - PROGRESS: at 72.17% examples, 367553 words/s, in_qsize 2, out_qsize 1\n",
            "INFO:gensim.models.base_any2vec:EPOCH 5 - PROGRESS: at 75.11% examples, 360240 words/s, in_qsize 3, out_qsize 0\n",
            "INFO:gensim.models.base_any2vec:EPOCH 5 - PROGRESS: at 78.06% examples, 352451 words/s, in_qsize 3, out_qsize 0\n",
            "INFO:gensim.models.base_any2vec:EPOCH 5 - PROGRESS: at 81.13% examples, 346893 words/s, in_qsize 3, out_qsize 0\n",
            "INFO:gensim.models.base_any2vec:EPOCH 5 - PROGRESS: at 84.35% examples, 341633 words/s, in_qsize 3, out_qsize 0\n",
            "INFO:gensim.models.base_any2vec:EPOCH 5 - PROGRESS: at 87.48% examples, 335993 words/s, in_qsize 3, out_qsize 0\n",
            "INFO:gensim.models.base_any2vec:EPOCH 5 - PROGRESS: at 90.46% examples, 331118 words/s, in_qsize 3, out_qsize 0\n",
            "INFO:gensim.models.base_any2vec:EPOCH 5 - PROGRESS: at 93.43% examples, 326909 words/s, in_qsize 3, out_qsize 0\n",
            "INFO:gensim.models.base_any2vec:EPOCH 5 - PROGRESS: at 96.53% examples, 323139 words/s, in_qsize 3, out_qsize 0\n",
            "INFO:gensim.models.base_any2vec:EPOCH 5 - PROGRESS: at 99.72% examples, 319780 words/s, in_qsize 3, out_qsize 0\n",
            "INFO:gensim.models.base_any2vec:worker thread finished; awaiting finish of 1 more threads\n",
            "INFO:gensim.models.base_any2vec:worker thread finished; awaiting finish of 0 more threads\n",
            "INFO:gensim.models.base_any2vec:EPOCH - 5 : training on 9232621 raw words (8227928 effective words) took 25.7s, 320050 effective words/s\n",
            "INFO:gensim.models.base_any2vec:training on a 46163105 raw words (41141147 effective words) took 122.8s, 334960 effective words/s\n",
            "INFO:root:---- Generating tokenizer ----\n",
            "INFO:root:Total words: 290526\n",
            "INFO:root:---- Tokenizing train data ----\n",
            "INFO:root:---- Tokenizing eval data ----\n",
            "INFO:root:---- Generating label encoder ----\n",
            "INFO:root:---- Encoding train target ----\n",
            "INFO:root:---- Encoding eval target ----\n",
            "INFO:root:---- Generating embedding layer ----\n",
            "INFO:root:---- Generating Sequential model ----\n",
            "2023-03-13 20:51:35.044413: W tensorflow/core/common_runtime/gpu/gpu_bfc_allocator.cc:42] Overriding orig_value setting because the TF_FORCE_GPU_ALLOW_GROWTH environment variable is set. Original config value was 0.\n",
            "2023-03-13 20:51:35.490013: W tensorflow/tsl/framework/cpu_allocator_impl.cc:82] Allocation of 348631200 exceeds 10% of free system memory.\n",
            "WARNING:tensorflow:Layer lstm will not use cuDNN kernels since it doesn't meet the criteria. It will use a generic GPU kernel as fallback when running on GPU.\n",
            "WARNING:tensorflow:Layer lstm will not use cuDNN kernels since it doesn't meet the criteria. It will use a generic GPU kernel as fallback when running on GPU.\n",
            "Model: \"sequential\"\n",
            "_________________________________________________________________\n",
            " Layer (type)                Output Shape              Param #   \n",
            "=================================================================\n",
            " embedding (Embedding)       (None, 300, 300)          87157800  \n",
            "                                                                 \n",
            " dropout (Dropout)           (None, 300, 300)          0         \n",
            "                                                                 \n",
            " lstm (LSTM)                 (None, 100)               160400    \n",
            "                                                                 \n",
            " dense (Dense)               (None, 1)                 101       \n",
            "                                                                 \n",
            "=================================================================\n",
            "Total params: 87,318,301\n",
            "Trainable params: 160,501\n",
            "Non-trainable params: 87,157,800\n",
            "_________________________________________________________________\n",
            "INFO:root:---- Adding loss function to model ----\n",
            "INFO:root:---- Adding callbacks to model ----\n",
            "INFO:root:---- Training model ----\n",
            "2023-03-13 20:51:36.139067: W tensorflow/tsl/framework/cpu_allocator_impl.cc:82] Allocation of 1376278800 exceeds 10% of free system memory.\n",
            "1000/1000 [==============================] - 1455s 1s/step - loss: 0.5081 - accuracy: 0.7468 - val_loss: 0.5624 - val_accuracy: 0.7268 - lr: 0.0010\n",
            "INFO:root:---- Evaluating model ----\n",
            "2023-03-13 21:16:01.704270: W tensorflow/tsl/framework/cpu_allocator_impl.cc:82] Allocation of 381594000 exceeds 10% of free system memory.\n",
            "311/311 [==============================] - 35s 113ms/step - loss: 0.4748 - accuracy: 0.7717\n",
            "INFO:root:ACCURACY: 0.7717196941375732\n",
            "INFO:root:LOSS: 0.47479426860809326\n",
            "INFO:root:---- Saving models ----\n",
            "2023-03-13 21:16:44.636198: W tensorflow/tsl/framework/cpu_allocator_impl.cc:82] Allocation of 348631200 exceeds 10% of free system memory.\n"
          ]
        }
      ]
    },
    {
      "cell_type": "markdown",
      "source": [
        "**Nota.** Esta celda tarda unos 25 minutos en ejecutar."
      ],
      "metadata": {
        "id": "RGr4BxuTD4G2"
      }
    },
    {
      "cell_type": "markdown",
      "source": [
        "Entrenar en local nos permite debuggear y no gastar dinero de manera innecesaria. Como se suele utilizar es entrenando pequeños procesos en local y una vez que estamos seguros lanzando el entrenamiento grande en la Google Cloud."
      ],
      "metadata": {
        "id": "bIws8B6cqHL-"
      }
    },
    {
      "cell_type": "markdown",
      "metadata": {
        "id": "t_MF4ZS5l5TQ"
      },
      "source": [
        "## Predicciones en batch sobre texto\n",
        "\n",
        "Después de entrenar nuestros modelos, podemos hacer predicciones en batch en nuestros ejemplos de test en local ejecutando la siguiente celda:"
      ]
    },
    {
      "cell_type": "code",
      "metadata": {
        "id": "IDk8oerSV2bN"
      },
      "source": [
        "from datetime import datetime\n",
        "\n",
        "# current date and time\n",
        "TIMESTAMP = datetime.now().strftime('%Y-%m-%d_%H-%M-%S')"
      ],
      "execution_count": null,
      "outputs": []
    },
    {
      "cell_type": "code",
      "source": [
        "TIMESTAMP"
      ],
      "metadata": {
        "colab": {
          "base_uri": "https://localhost:8080/",
          "height": 35
        },
        "id": "uHAJxSdn1iAv",
        "outputId": "d1865b24-2085-4eba-b443-0e95cda9b8e8"
      },
      "execution_count": null,
      "outputs": [
        {
          "output_type": "execute_result",
          "data": {
            "text/plain": [
              "'2023-03-13_21-17-37'"
            ],
            "application/vnd.google.colaboratory.intrinsic+json": {
              "type": "string"
            }
          },
          "metadata": {},
          "execution_count": 30
        }
      ]
    },
    {
      "cell_type": "markdown",
      "source": [
        "Usamos el timestamp para crear el nombre de nuestra carpeta de predicción y así tener trazabilidad de cuando se lanzaron las predicciones."
      ],
      "metadata": {
        "id": "IUuB9IlhvtT_"
      }
    },
    {
      "cell_type": "code",
      "metadata": {
        "id": "D3A8THzvhlrz",
        "colab": {
          "base_uri": "https://localhost:8080/"
        },
        "outputId": "cb4084d0-8f7d-451b-c414-f9106f65b77e"
      },
      "source": [
        "! python3 predict-inicial.py \\\n",
        "  --work-dir $WORK_DIR \\\n",
        "  --model-dir $WORK_DIR/data/model \\\n",
        "  batch \\\n",
        "  --inputs-dir $WORK_DIR/data/transformed_data/test/part* \\\n",
        "  --outputs-dir $WORK_DIR/predictions/$TIMESTAMP"
      ],
      "execution_count": null,
      "outputs": [
        {
          "output_type": "stream",
          "name": "stdout",
          "text": [
            "2023-03-13 21:29:15.090345: I tensorflow/core/platform/cpu_feature_guard.cc:193] This TensorFlow binary is optimized with oneAPI Deep Neural Network Library (oneDNN) to use the following CPU instructions in performance-critical operations:  AVX2 FMA\n",
            "To enable them in other operations, rebuild TensorFlow with the appropriate compiler flags.\n",
            "2023-03-13 21:29:16.091820: W tensorflow/compiler/xla/stream_executor/platform/default/dso_loader.cc:64] Could not load dynamic library 'libnvinfer.so.7'; dlerror: libnvinfer.so.7: cannot open shared object file: No such file or directory; LD_LIBRARY_PATH: /usr/lib64-nvidia\n",
            "2023-03-13 21:29:16.091941: W tensorflow/compiler/xla/stream_executor/platform/default/dso_loader.cc:64] Could not load dynamic library 'libnvinfer_plugin.so.7'; dlerror: libnvinfer_plugin.so.7: cannot open shared object file: No such file or directory; LD_LIBRARY_PATH: /usr/lib64-nvidia\n",
            "2023-03-13 21:29:16.091963: W tensorflow/compiler/tf2tensorrt/utils/py_utils.cc:38] TF-TRT Warning: Cannot dlopen some TensorRT libraries. If you would like to use Nvidia GPU with TensorRT, please make sure the missing libraries mentioned above are installed properly.\n",
            "Namespace(work_dir='/content/TwitterBatch/twitter-sentiment-batch', model_dir='/content/TwitterBatch/twitter-sentiment-batch/data/model', verb='batch', inputs_dir='/content/TwitterBatch/twitter-sentiment-batch/data/transformed_data/test/part-00000-of-00001', outputs_dir='/content/TwitterBatch/twitter-sentiment-batch/predictions/2023-03-13_21-17-37')\n",
            "2023-03-13 21:29:21.045225: W tensorflow/core/common_runtime/gpu/gpu_bfc_allocator.cc:42] Overriding orig_value setting because the TF_FORCE_GPU_ALLOW_GROWTH environment variable is set. Original config value was 0.\n",
            "WARNING:tensorflow:Layer lstm will not use cuDNN kernels since it doesn't meet the criteria. It will use a generic GPU kernel as fallback when running on GPU.\n",
            "WARNING:tensorflow:Layer lstm will not use cuDNN kernels since it doesn't meet the criteria. It will use a generic GPU kernel as fallback when running on GPU.\n",
            "1/1 [==============================] - 2s 2s/step\n",
            "1/1 [==============================] - 0s 194ms/step\n",
            "1/1 [==============================] - 0s 213ms/step\n",
            "1/1 [==============================] - 0s 187ms/step\n",
            "1/1 [==============================] - 0s 215ms/step\n",
            "1/1 [==============================] - 0s 185ms/step\n",
            "1/1 [==============================] - 0s 191ms/step\n",
            "1/1 [==============================] - 0s 204ms/step\n",
            "1/1 [==============================] - 0s 162ms/step\n",
            "1/1 [==============================] - 0s 140ms/step\n",
            "1/1 [==============================] - 0s 148ms/step\n",
            "1/1 [==============================] - 0s 137ms/step\n",
            "1/1 [==============================] - 0s 161ms/step\n",
            "1/1 [==============================] - 0s 135ms/step\n",
            "1/1 [==============================] - 0s 144ms/step\n",
            "1/1 [==============================] - 0s 138ms/step\n",
            "1/1 [==============================] - 0s 148ms/step\n",
            "1/1 [==============================] - 0s 147ms/step\n",
            "1/1 [==============================] - 0s 151ms/step\n",
            "1/1 [==============================] - 0s 160ms/step\n",
            "1/1 [==============================] - 0s 152ms/step\n",
            "1/1 [==============================] - 0s 153ms/step\n",
            "1/1 [==============================] - 0s 163ms/step\n",
            "1/1 [==============================] - 0s 151ms/step\n",
            "1/1 [==============================] - 0s 154ms/step\n",
            "1/1 [==============================] - 0s 149ms/step\n",
            "1/1 [==============================] - 0s 149ms/step\n",
            "1/1 [==============================] - 0s 157ms/step\n",
            "1/1 [==============================] - 0s 151ms/step\n",
            "1/1 [==============================] - 0s 151ms/step\n",
            "1/1 [==============================] - 0s 157ms/step\n",
            "1/1 [==============================] - 0s 89ms/step\n",
            "1/1 [==============================] - 0s 93ms/step\n",
            "1/1 [==============================] - 0s 92ms/step\n",
            "1/1 [==============================] - 0s 90ms/step\n",
            "1/1 [==============================] - 0s 90ms/step\n",
            "1/1 [==============================] - 0s 91ms/step\n",
            "1/1 [==============================] - 0s 92ms/step\n",
            "1/1 [==============================] - 0s 94ms/step\n",
            "1/1 [==============================] - 0s 93ms/step\n",
            "1/1 [==============================] - 0s 89ms/step\n",
            "1/1 [==============================] - 0s 93ms/step\n",
            "1/1 [==============================] - 0s 89ms/step\n",
            "1/1 [==============================] - 0s 93ms/step\n",
            "1/1 [==============================] - 0s 91ms/step\n",
            "1/1 [==============================] - 0s 96ms/step\n",
            "1/1 [==============================] - 0s 89ms/step\n",
            "1/1 [==============================] - 0s 93ms/step\n",
            "1/1 [==============================] - 0s 95ms/step\n",
            "1/1 [==============================] - 0s 89ms/step\n",
            "1/1 [==============================] - 0s 97ms/step\n",
            "1/1 [==============================] - 0s 92ms/step\n",
            "1/1 [==============================] - 0s 89ms/step\n",
            "1/1 [==============================] - 0s 95ms/step\n",
            "1/1 [==============================] - 0s 90ms/step\n",
            "1/1 [==============================] - 0s 108ms/step\n",
            "1/1 [==============================] - 0s 91ms/step\n",
            "1/1 [==============================] - 0s 91ms/step\n",
            "1/1 [==============================] - 0s 98ms/step\n",
            "1/1 [==============================] - 0s 95ms/step\n",
            "1/1 [==============================] - 0s 89ms/step\n",
            "1/1 [==============================] - 0s 100ms/step\n",
            "1/1 [==============================] - 0s 90ms/step\n",
            "1/1 [==============================] - 0s 98ms/step\n",
            "1/1 [==============================] - 0s 91ms/step\n",
            "1/1 [==============================] - 0s 98ms/step\n",
            "1/1 [==============================] - 0s 104ms/step\n",
            "1/1 [==============================] - 0s 97ms/step\n",
            "1/1 [==============================] - 0s 90ms/step\n",
            "1/1 [==============================] - 0s 95ms/step\n",
            "1/1 [==============================] - 0s 93ms/step\n",
            "1/1 [==============================] - 0s 93ms/step\n",
            "1/1 [==============================] - 0s 89ms/step\n",
            "1/1 [==============================] - 0s 96ms/step\n",
            "1/1 [==============================] - 0s 99ms/step\n",
            "1/1 [==============================] - 0s 91ms/step\n",
            "1/1 [==============================] - 0s 92ms/step\n",
            "1/1 [==============================] - 0s 95ms/step\n",
            "1/1 [==============================] - 0s 94ms/step\n",
            "1/1 [==============================] - 0s 94ms/step\n",
            "1/1 [==============================] - 0s 96ms/step\n",
            "1/1 [==============================] - 0s 90ms/step\n",
            "1/1 [==============================] - 0s 91ms/step\n",
            "1/1 [==============================] - 0s 98ms/step\n",
            "1/1 [==============================] - 0s 95ms/step\n",
            "1/1 [==============================] - 0s 93ms/step\n",
            "1/1 [==============================] - 0s 93ms/step\n",
            "1/1 [==============================] - 0s 92ms/step\n",
            "1/1 [==============================] - 0s 90ms/step\n",
            "1/1 [==============================] - 0s 89ms/step\n",
            "1/1 [==============================] - 0s 92ms/step\n",
            "1/1 [==============================] - 0s 99ms/step\n",
            "1/1 [==============================] - 0s 94ms/step\n",
            "1/1 [==============================] - 0s 98ms/step\n",
            "1/1 [==============================] - 0s 91ms/step\n",
            "1/1 [==============================] - 0s 95ms/step\n",
            "1/1 [==============================] - 0s 94ms/step\n",
            "1/1 [==============================] - 0s 88ms/step\n",
            "1/1 [==============================] - 0s 93ms/step\n",
            "1/1 [==============================] - 0s 98ms/step\n",
            "1/1 [==============================] - 0s 89ms/step\n",
            "1/1 [==============================] - 0s 96ms/step\n",
            "1/1 [==============================] - 0s 96ms/step\n",
            "1/1 [==============================] - 0s 93ms/step\n",
            "1/1 [==============================] - 0s 92ms/step\n",
            "1/1 [==============================] - 0s 92ms/step\n",
            "1/1 [==============================] - 0s 95ms/step\n",
            "1/1 [==============================] - 0s 95ms/step\n",
            "1/1 [==============================] - 0s 95ms/step\n",
            "1/1 [==============================] - 0s 92ms/step\n",
            "1/1 [==============================] - 0s 97ms/step\n",
            "1/1 [==============================] - 0s 146ms/step\n",
            "1/1 [==============================] - 0s 141ms/step\n",
            "1/1 [==============================] - 0s 141ms/step\n",
            "1/1 [==============================] - 0s 148ms/step\n",
            "1/1 [==============================] - 0s 149ms/step\n",
            "1/1 [==============================] - 0s 159ms/step\n",
            "1/1 [==============================] - 0s 143ms/step\n",
            "1/1 [==============================] - 0s 152ms/step\n",
            "1/1 [==============================] - 0s 139ms/step\n",
            "1/1 [==============================] - 0s 135ms/step\n",
            "1/1 [==============================] - 0s 140ms/step\n",
            "1/1 [==============================] - 0s 145ms/step\n",
            "1/1 [==============================] - 0s 142ms/step\n",
            "1/1 [==============================] - 0s 135ms/step\n",
            "1/1 [==============================] - 0s 141ms/step\n",
            "1/1 [==============================] - 0s 150ms/step\n",
            "1/1 [==============================] - 0s 143ms/step\n",
            "1/1 [==============================] - 0s 145ms/step\n",
            "1/1 [==============================] - 0s 166ms/step\n",
            "1/1 [==============================] - 0s 165ms/step\n",
            "1/1 [==============================] - 0s 168ms/step\n",
            "1/1 [==============================] - 0s 160ms/step\n",
            "1/1 [==============================] - 0s 157ms/step\n",
            "1/1 [==============================] - 0s 160ms/step\n",
            "1/1 [==============================] - 0s 163ms/step\n",
            "1/1 [==============================] - 0s 167ms/step\n",
            "1/1 [==============================] - 0s 153ms/step\n",
            "1/1 [==============================] - 0s 153ms/step\n",
            "1/1 [==============================] - 0s 154ms/step\n",
            "1/1 [==============================] - 0s 152ms/step\n",
            "1/1 [==============================] - 0s 141ms/step\n",
            "1/1 [==============================] - 0s 94ms/step\n",
            "1/1 [==============================] - 0s 91ms/step\n",
            "1/1 [==============================] - 0s 97ms/step\n",
            "1/1 [==============================] - 0s 92ms/step\n",
            "1/1 [==============================] - 0s 92ms/step\n",
            "1/1 [==============================] - 0s 94ms/step\n",
            "1/1 [==============================] - 0s 92ms/step\n",
            "1/1 [==============================] - 0s 111ms/step\n",
            "1/1 [==============================] - 0s 95ms/step\n",
            "1/1 [==============================] - 0s 94ms/step\n",
            "1/1 [==============================] - 0s 89ms/step\n",
            "1/1 [==============================] - 0s 94ms/step\n",
            "1/1 [==============================] - 0s 90ms/step\n",
            "1/1 [==============================] - 0s 96ms/step\n",
            "1/1 [==============================] - 0s 92ms/step\n",
            "1/1 [==============================] - 0s 107ms/step\n",
            "1/1 [==============================] - 0s 90ms/step\n",
            "1/1 [==============================] - 0s 96ms/step\n",
            "1/1 [==============================] - 0s 93ms/step\n",
            "1/1 [==============================] - 0s 94ms/step\n",
            "1/1 [==============================] - 0s 90ms/step\n",
            "1/1 [==============================] - 0s 92ms/step\n",
            "1/1 [==============================] - 0s 95ms/step\n",
            "1/1 [==============================] - 0s 101ms/step\n",
            "1/1 [==============================] - 0s 92ms/step\n",
            "1/1 [==============================] - 0s 92ms/step\n",
            "1/1 [==============================] - 0s 90ms/step\n",
            "1/1 [==============================] - 0s 96ms/step\n",
            "1/1 [==============================] - 0s 89ms/step\n",
            "1/1 [==============================] - 0s 93ms/step\n",
            "1/1 [==============================] - 0s 92ms/step\n",
            "1/1 [==============================] - 0s 94ms/step\n",
            "1/1 [==============================] - 0s 91ms/step\n",
            "1/1 [==============================] - 0s 97ms/step\n",
            "1/1 [==============================] - 0s 90ms/step\n",
            "1/1 [==============================] - 0s 95ms/step\n",
            "1/1 [==============================] - 0s 95ms/step\n",
            "1/1 [==============================] - 0s 96ms/step\n",
            "1/1 [==============================] - 0s 91ms/step\n",
            "1/1 [==============================] - 0s 107ms/step\n",
            "1/1 [==============================] - 0s 90ms/step\n",
            "1/1 [==============================] - 0s 94ms/step\n",
            "1/1 [==============================] - 0s 89ms/step\n",
            "1/1 [==============================] - 0s 93ms/step\n",
            "1/1 [==============================] - 0s 90ms/step\n",
            "1/1 [==============================] - 0s 93ms/step\n",
            "1/1 [==============================] - 0s 94ms/step\n",
            "1/1 [==============================] - 0s 107ms/step\n",
            "1/1 [==============================] - 0s 90ms/step\n",
            "1/1 [==============================] - 0s 96ms/step\n",
            "1/1 [==============================] - 0s 92ms/step\n",
            "1/1 [==============================] - 0s 90ms/step\n",
            "1/1 [==============================] - 0s 89ms/step\n",
            "1/1 [==============================] - 0s 95ms/step\n",
            "1/1 [==============================] - 0s 91ms/step\n",
            "1/1 [==============================] - 0s 96ms/step\n",
            "1/1 [==============================] - 0s 91ms/step\n",
            "1/1 [==============================] - 0s 92ms/step\n",
            "1/1 [==============================] - 0s 93ms/step\n",
            "1/1 [==============================] - 0s 92ms/step\n",
            "1/1 [==============================] - 0s 95ms/step\n",
            "1/1 [==============================] - 0s 99ms/step\n",
            "1/1 [==============================] - 0s 98ms/step\n",
            "1/1 [==============================] - 0s 90ms/step\n",
            "1/1 [==============================] - 0s 92ms/step\n",
            "1/1 [==============================] - 0s 91ms/step\n",
            "1/1 [==============================] - 0s 89ms/step\n",
            "1/1 [==============================] - 0s 92ms/step\n",
            "1/1 [==============================] - 0s 95ms/step\n",
            "1/1 [==============================] - 0s 92ms/step\n",
            "1/1 [==============================] - 0s 97ms/step\n",
            "1/1 [==============================] - 0s 89ms/step\n",
            "1/1 [==============================] - 0s 90ms/step\n",
            "1/1 [==============================] - 0s 94ms/step\n",
            "1/1 [==============================] - 0s 88ms/step\n",
            "1/1 [==============================] - 0s 92ms/step\n",
            "1/1 [==============================] - 0s 92ms/step\n",
            "1/1 [==============================] - 0s 102ms/step\n",
            "1/1 [==============================] - 0s 119ms/step\n",
            "1/1 [==============================] - 0s 148ms/step\n",
            "1/1 [==============================] - 0s 142ms/step\n",
            "1/1 [==============================] - 0s 135ms/step\n",
            "1/1 [==============================] - 0s 140ms/step\n",
            "1/1 [==============================] - 0s 138ms/step\n",
            "1/1 [==============================] - 0s 146ms/step\n",
            "1/1 [==============================] - 0s 144ms/step\n",
            "1/1 [==============================] - 0s 148ms/step\n",
            "1/1 [==============================] - 0s 133ms/step\n",
            "1/1 [==============================] - 0s 138ms/step\n",
            "1/1 [==============================] - 0s 137ms/step\n",
            "1/1 [==============================] - 0s 168ms/step\n",
            "1/1 [==============================] - 0s 141ms/step\n",
            "1/1 [==============================] - 0s 143ms/step\n",
            "1/1 [==============================] - 0s 135ms/step\n",
            "1/1 [==============================] - 0s 145ms/step\n",
            "1/1 [==============================] - 0s 144ms/step\n",
            "1/1 [==============================] - 0s 143ms/step\n",
            "1/1 [==============================] - 0s 153ms/step\n",
            "1/1 [==============================] - 0s 152ms/step\n",
            "1/1 [==============================] - 0s 157ms/step\n",
            "1/1 [==============================] - 0s 156ms/step\n",
            "1/1 [==============================] - 0s 155ms/step\n",
            "1/1 [==============================] - 0s 149ms/step\n",
            "1/1 [==============================] - 0s 155ms/step\n",
            "1/1 [==============================] - 0s 153ms/step\n",
            "1/1 [==============================] - 0s 161ms/step\n",
            "1/1 [==============================] - 0s 162ms/step\n",
            "1/1 [==============================] - 0s 150ms/step\n",
            "1/1 [==============================] - 0s 155ms/step\n",
            "1/1 [==============================] - 0s 116ms/step\n",
            "1/1 [==============================] - 0s 94ms/step\n",
            "1/1 [==============================] - 0s 90ms/step\n",
            "1/1 [==============================] - 0s 101ms/step\n",
            "1/1 [==============================] - 0s 89ms/step\n",
            "1/1 [==============================] - 0s 99ms/step\n",
            "1/1 [==============================] - 0s 89ms/step\n",
            "1/1 [==============================] - 0s 90ms/step\n",
            "1/1 [==============================] - 0s 98ms/step\n",
            "1/1 [==============================] - 0s 96ms/step\n",
            "1/1 [==============================] - 0s 94ms/step\n",
            "1/1 [==============================] - 0s 99ms/step\n",
            "1/1 [==============================] - 0s 92ms/step\n",
            "1/1 [==============================] - 0s 89ms/step\n",
            "1/1 [==============================] - 0s 92ms/step\n",
            "1/1 [==============================] - 0s 88ms/step\n",
            "1/1 [==============================] - 0s 95ms/step\n",
            "1/1 [==============================] - 0s 104ms/step\n",
            "1/1 [==============================] - 0s 92ms/step\n",
            "1/1 [==============================] - 0s 89ms/step\n",
            "1/1 [==============================] - 0s 92ms/step\n",
            "1/1 [==============================] - 0s 93ms/step\n",
            "1/1 [==============================] - 0s 90ms/step\n",
            "1/1 [==============================] - 0s 95ms/step\n",
            "1/1 [==============================] - 0s 92ms/step\n",
            "1/1 [==============================] - 0s 94ms/step\n",
            "1/1 [==============================] - 0s 105ms/step\n",
            "1/1 [==============================] - 0s 134ms/step\n",
            "1/1 [==============================] - 0s 141ms/step\n",
            "1/1 [==============================] - 0s 141ms/step\n",
            "1/1 [==============================] - 0s 138ms/step\n",
            "1/1 [==============================] - 0s 145ms/step\n",
            "1/1 [==============================] - 0s 137ms/step\n",
            "1/1 [==============================] - 0s 141ms/step\n",
            "1/1 [==============================] - 0s 143ms/step\n",
            "1/1 [==============================] - 0s 153ms/step\n",
            "1/1 [==============================] - 0s 138ms/step\n",
            "1/1 [==============================] - 0s 137ms/step\n",
            "1/1 [==============================] - 0s 133ms/step\n",
            "1/1 [==============================] - 0s 142ms/step\n",
            "1/1 [==============================] - 0s 138ms/step\n",
            "1/1 [==============================] - 0s 147ms/step\n",
            "1/1 [==============================] - 0s 150ms/step\n",
            "1/1 [==============================] - 0s 141ms/step\n",
            "1/1 [==============================] - 0s 152ms/step\n",
            "1/1 [==============================] - 0s 147ms/step\n",
            "1/1 [==============================] - 0s 158ms/step\n",
            "1/1 [==============================] - 0s 153ms/step\n",
            "1/1 [==============================] - 0s 155ms/step\n",
            "1/1 [==============================] - 0s 160ms/step\n",
            "1/1 [==============================] - 0s 151ms/step\n",
            "1/1 [==============================] - 0s 174ms/step\n",
            "1/1 [==============================] - 0s 165ms/step\n",
            "1/1 [==============================] - 0s 157ms/step\n",
            "1/1 [==============================] - 0s 163ms/step\n",
            "1/1 [==============================] - 0s 177ms/step\n",
            "1/1 [==============================] - 0s 148ms/step\n",
            "1/1 [==============================] - 0s 101ms/step\n",
            "1/1 [==============================] - 0s 93ms/step\n",
            "1/1 [==============================] - 0s 99ms/step\n",
            "1/1 [==============================] - 0s 90ms/step\n",
            "1/1 [==============================] - 0s 106ms/step\n",
            "1/1 [==============================] - 0s 89ms/step\n",
            "1/1 [==============================] - 0s 97ms/step\n",
            "1/1 [==============================] - 0s 144ms/step\n",
            "1/1 [==============================] - 0s 152ms/step\n",
            "1/1 [==============================] - 0s 133ms/step\n",
            "1/1 [==============================] - 0s 138ms/step\n",
            "1/1 [==============================] - 0s 141ms/step\n",
            "1/1 [==============================] - 0s 135ms/step\n",
            "1/1 [==============================] - 0s 137ms/step\n",
            "1/1 [==============================] - 0s 152ms/step\n",
            "1/1 [==============================] - 0s 142ms/step\n",
            "1/1 [==============================] - 0s 151ms/step\n",
            "1/1 [==============================] - 0s 133ms/step\n",
            "1/1 [==============================] - 0s 145ms/step\n",
            "1/1 [==============================] - 0s 157ms/step\n",
            "1/1 [==============================] - 0s 142ms/step\n",
            "1/1 [==============================] - 0s 136ms/step\n",
            "1/1 [==============================] - 0s 147ms/step\n",
            "1/1 [==============================] - 0s 149ms/step\n",
            "1/1 [==============================] - 0s 150ms/step\n",
            "1/1 [==============================] - 0s 149ms/step\n",
            "1/1 [==============================] - 0s 162ms/step\n",
            "1/1 [==============================] - 0s 164ms/step\n",
            "1/1 [==============================] - 0s 154ms/step\n",
            "1/1 [==============================] - 0s 157ms/step\n",
            "1/1 [==============================] - 0s 161ms/step\n",
            "1/1 [==============================] - 0s 162ms/step\n",
            "1/1 [==============================] - 0s 172ms/step\n",
            "1/1 [==============================] - 0s 157ms/step\n",
            "1/1 [==============================] - 0s 168ms/step\n",
            "1/1 [==============================] - 0s 161ms/step\n",
            "1/1 [==============================] - 0s 159ms/step\n",
            "1/1 [==============================] - 0s 163ms/step\n",
            "1/1 [==============================] - 0s 90ms/step\n",
            "1/1 [==============================] - 0s 94ms/step\n",
            "1/1 [==============================] - 0s 92ms/step\n",
            "1/1 [==============================] - 0s 91ms/step\n",
            "1/1 [==============================] - 0s 91ms/step\n",
            "1/1 [==============================] - 0s 91ms/step\n",
            "1/1 [==============================] - 0s 94ms/step\n",
            "1/1 [==============================] - 0s 97ms/step\n",
            "1/1 [==============================] - 0s 100ms/step\n",
            "1/1 [==============================] - 0s 89ms/step\n",
            "1/1 [==============================] - 0s 96ms/step\n",
            "1/1 [==============================] - 0s 88ms/step\n",
            "1/1 [==============================] - 0s 95ms/step\n",
            "1/1 [==============================] - 0s 91ms/step\n",
            "1/1 [==============================] - 0s 88ms/step\n",
            "1/1 [==============================] - 0s 89ms/step\n",
            "1/1 [==============================] - 0s 92ms/step\n",
            "1/1 [==============================] - 0s 93ms/step\n",
            "1/1 [==============================] - 0s 94ms/step\n",
            "1/1 [==============================] - 0s 92ms/step\n",
            "1/1 [==============================] - 0s 89ms/step\n",
            "1/1 [==============================] - 0s 88ms/step\n",
            "1/1 [==============================] - 0s 93ms/step\n",
            "1/1 [==============================] - 0s 99ms/step\n",
            "1/1 [==============================] - 0s 106ms/step\n",
            "1/1 [==============================] - 0s 89ms/step\n",
            "1/1 [==============================] - 0s 95ms/step\n",
            "1/1 [==============================] - 0s 93ms/step\n",
            "1/1 [==============================] - 0s 93ms/step\n",
            "1/1 [==============================] - 0s 89ms/step\n",
            "1/1 [==============================] - 0s 90ms/step\n",
            "1/1 [==============================] - 0s 89ms/step\n",
            "1/1 [==============================] - 0s 93ms/step\n",
            "1/1 [==============================] - 0s 91ms/step\n",
            "1/1 [==============================] - 0s 105ms/step\n",
            "1/1 [==============================] - 0s 99ms/step\n",
            "1/1 [==============================] - 0s 94ms/step\n",
            "1/1 [==============================] - 0s 89ms/step\n",
            "1/1 [==============================] - 0s 96ms/step\n",
            "1/1 [==============================] - 0s 88ms/step\n",
            "1/1 [==============================] - 0s 100ms/step\n",
            "1/1 [==============================] - 0s 92ms/step\n",
            "1/1 [==============================] - 0s 94ms/step\n",
            "1/1 [==============================] - 0s 90ms/step\n",
            "1/1 [==============================] - 0s 93ms/step\n",
            "1/1 [==============================] - 0s 92ms/step\n",
            "1/1 [==============================] - 0s 90ms/step\n",
            "1/1 [==============================] - 0s 95ms/step\n",
            "1/1 [==============================] - 0s 89ms/step\n",
            "1/1 [==============================] - 0s 93ms/step\n",
            "1/1 [==============================] - 0s 98ms/step\n",
            "1/1 [==============================] - 0s 95ms/step\n",
            "1/1 [==============================] - 0s 102ms/step\n",
            "1/1 [==============================] - 0s 94ms/step\n",
            "1/1 [==============================] - 0s 89ms/step\n",
            "1/1 [==============================] - 0s 107ms/step\n",
            "1/1 [==============================] - 0s 90ms/step\n",
            "1/1 [==============================] - 0s 97ms/step\n",
            "1/1 [==============================] - 0s 89ms/step\n",
            "1/1 [==============================] - 0s 97ms/step\n",
            "1/1 [==============================] - 0s 90ms/step\n",
            "1/1 [==============================] - 0s 95ms/step\n",
            "1/1 [==============================] - 0s 94ms/step\n",
            "1/1 [==============================] - 0s 103ms/step\n",
            "1/1 [==============================] - 0s 89ms/step\n",
            "1/1 [==============================] - 0s 92ms/step\n",
            "1/1 [==============================] - 0s 90ms/step\n",
            "1/1 [==============================] - 0s 88ms/step\n",
            "1/1 [==============================] - 0s 89ms/step\n",
            "1/1 [==============================] - 0s 91ms/step\n",
            "1/1 [==============================] - 0s 101ms/step\n",
            "1/1 [==============================] - 0s 94ms/step\n",
            "1/1 [==============================] - 0s 92ms/step\n",
            "1/1 [==============================] - 0s 90ms/step\n",
            "1/1 [==============================] - 0s 92ms/step\n",
            "1/1 [==============================] - 0s 93ms/step\n",
            "1/1 [==============================] - 0s 91ms/step\n",
            "1/1 [==============================] - 0s 142ms/step\n",
            "1/1 [==============================] - 0s 141ms/step\n",
            "1/1 [==============================] - 0s 142ms/step\n",
            "1/1 [==============================] - 0s 144ms/step\n",
            "1/1 [==============================] - 0s 134ms/step\n",
            "1/1 [==============================] - 0s 141ms/step\n",
            "1/1 [==============================] - 0s 144ms/step\n",
            "1/1 [==============================] - 0s 139ms/step\n",
            "1/1 [==============================] - 0s 141ms/step\n",
            "1/1 [==============================] - 0s 139ms/step\n",
            "1/1 [==============================] - 0s 132ms/step\n",
            "1/1 [==============================] - 0s 136ms/step\n",
            "1/1 [==============================] - 0s 152ms/step\n",
            "1/1 [==============================] - 0s 146ms/step\n",
            "1/1 [==============================] - 0s 142ms/step\n",
            "1/1 [==============================] - 0s 132ms/step\n",
            "1/1 [==============================] - 0s 154ms/step\n",
            "1/1 [==============================] - 0s 141ms/step\n",
            "1/1 [==============================] - 0s 153ms/step\n",
            "1/1 [==============================] - 0s 160ms/step\n",
            "1/1 [==============================] - 0s 153ms/step\n",
            "1/1 [==============================] - 0s 153ms/step\n",
            "1/1 [==============================] - 0s 164ms/step\n",
            "1/1 [==============================] - 0s 155ms/step\n",
            "1/1 [==============================] - 0s 151ms/step\n",
            "1/1 [==============================] - 0s 153ms/step\n",
            "1/1 [==============================] - 0s 152ms/step\n",
            "1/1 [==============================] - 0s 148ms/step\n",
            "1/1 [==============================] - 0s 155ms/step\n",
            "1/1 [==============================] - 0s 153ms/step\n",
            "1/1 [==============================] - 0s 152ms/step\n",
            "1/1 [==============================] - 0s 120ms/step\n",
            "1/1 [==============================] - 0s 98ms/step\n",
            "1/1 [==============================] - 0s 90ms/step\n",
            "1/1 [==============================] - 0s 107ms/step\n",
            "1/1 [==============================] - 0s 97ms/step\n",
            "1/1 [==============================] - 0s 94ms/step\n",
            "1/1 [==============================] - 0s 89ms/step\n",
            "1/1 [==============================] - 0s 90ms/step\n",
            "1/1 [==============================] - 0s 98ms/step\n",
            "1/1 [==============================] - 0s 97ms/step\n",
            "1/1 [==============================] - 0s 91ms/step\n",
            "1/1 [==============================] - 0s 104ms/step\n",
            "1/1 [==============================] - 0s 88ms/step\n",
            "1/1 [==============================] - 0s 88ms/step\n",
            "1/1 [==============================] - 0s 93ms/step\n",
            "1/1 [==============================] - 0s 88ms/step\n",
            "1/1 [==============================] - 0s 91ms/step\n",
            "1/1 [==============================] - 0s 92ms/step\n",
            "1/1 [==============================] - 0s 94ms/step\n",
            "1/1 [==============================] - 0s 101ms/step\n",
            "1/1 [==============================] - 0s 94ms/step\n",
            "1/1 [==============================] - 0s 87ms/step\n",
            "1/1 [==============================] - 0s 93ms/step\n",
            "1/1 [==============================] - 0s 89ms/step\n",
            "1/1 [==============================] - 0s 97ms/step\n",
            "1/1 [==============================] - 0s 94ms/step\n",
            "1/1 [==============================] - 0s 97ms/step\n",
            "1/1 [==============================] - 0s 93ms/step\n",
            "1/1 [==============================] - 0s 91ms/step\n",
            "1/1 [==============================] - 0s 93ms/step\n",
            "1/1 [==============================] - 0s 88ms/step\n",
            "1/1 [==============================] - 0s 88ms/step\n",
            "1/1 [==============================] - 0s 92ms/step\n",
            "1/1 [==============================] - 0s 90ms/step\n",
            "1/1 [==============================] - 0s 94ms/step\n",
            "1/1 [==============================] - 0s 90ms/step\n",
            "1/1 [==============================] - 0s 103ms/step\n",
            "1/1 [==============================] - 0s 89ms/step\n",
            "1/1 [==============================] - 0s 92ms/step\n",
            "1/1 [==============================] - 0s 95ms/step\n",
            "1/1 [==============================] - 0s 90ms/step\n",
            "1/1 [==============================] - 0s 91ms/step\n",
            "1/1 [==============================] - 0s 97ms/step\n",
            "1/1 [==============================] - 0s 92ms/step\n"
          ]
        }
      ]
    },
    {
      "cell_type": "markdown",
      "source": [
        "Si exploramos el output de las predicciones podemos ver como en la primera ejecución ha tardado un poquito más debido a la función `setup` de la que hablamos antes en la que se cargan el tokenizador y el modelo."
      ],
      "metadata": {
        "id": "tYjX5RX0wF58"
      }
    },
    {
      "cell_type": "markdown",
      "metadata": {
        "id": "e-RKL4yN29af"
      },
      "source": [
        "# End-2-End en GCP"
      ]
    },
    {
      "cell_type": "markdown",
      "metadata": {
        "id": "7B2lTjVx9pR7"
      },
      "source": [
        "## Disponibilizar el dataset en Google Storage\n",
        "\n",
        "Para lanzar nuestras primeras ejecuciones en GCP con Dataflow y AI Platform lo primero que haremos será subir el dataset a un bucket de Google Storage. Para subirlo ejecutaremos las siguientes celdas:"
      ]
    },
    {
      "cell_type": "code",
      "metadata": {
        "id": "-K363vWE9nUz"
      },
      "source": [
        "! rm -rf ./data/transformed_data ./predictions #./data/model"
      ],
      "execution_count": null,
      "outputs": []
    },
    {
      "cell_type": "code",
      "metadata": {
        "id": "uzgSiveSXhze",
        "colab": {
          "base_uri": "https://localhost:8080/"
        },
        "outputId": "f56d9c9d-9516-41e5-ddda-5b3f52ed3cf9"
      },
      "source": [
        "# %cd ../\n",
        "! ls"
      ],
      "execution_count": null,
      "outputs": [
        {
          "output_type": "stream",
          "name": "stdout",
          "text": [
            "data\t\t    preprocess_inicial.py  setup.py\n",
            "predict-inicial.py  requirements.txt\t   trainer\n"
          ]
        }
      ]
    },
    {
      "cell_type": "markdown",
      "source": [
        "Vamos a subir a nuestro bucket nuestros datos de entrenamiento y test así como nuestro modelo."
      ],
      "metadata": {
        "id": "kmoAhlKfww9d"
      }
    },
    {
      "cell_type": "code",
      "metadata": {
        "id": "eMnPgpdN-tco",
        "colab": {
          "base_uri": "https://localhost:8080/"
        },
        "outputId": "54a0b583-a769-4aed-9c53-292db061a5ed"
      },
      "source": [
        "! gsutil -m cp -r ./data gs://$BUCKET_NAME/twitter-sentiment-batch/data"
      ],
      "execution_count": null,
      "outputs": [
        {
          "output_type": "stream",
          "name": "stdout",
          "text": [
            "Copying file://./data/testdata.manual.2009.06.14.csv [Content-Type=text/csv]...\n",
            "/ [0/4 files][    0.0 B/583.3 MiB]   0% Done                                    \rCopying file://./data/training.1600000.processed.noemoticon.csv [Content-Type=text/csv]...\n",
            "/ [0/4 files][    0.0 B/583.3 MiB]   0% Done                                    \r==> NOTE: You are uploading one or more large file(s), which would run\n",
            "significantly faster if you enable parallel composite uploads. This\n",
            "feature can be enabled by editing the\n",
            "\"parallel_composite_upload_threshold\" value in your .boto\n",
            "configuration file. However, note that if you do this large files will\n",
            "be uploaded as `composite objects\n",
            "<https://cloud.google.com/storage/docs/composite-objects>`_,which\n",
            "means that any user who downloads such objects will need to have a\n",
            "compiled crcmod installed (see \"gsutil help crcmod\"). This is because\n",
            "without a compiled crcmod, computing checksums on composite objects is\n",
            "so slow that gsutil disables downloads of composite objects.\n",
            "\n",
            "Copying file://./data/model/tokenizer.pkl [Content-Type=application/octet-stream]...\n",
            "Copying file://./data/model/model.h5 [Content-Type=application/x-hdf5]...\n",
            "\\\n",
            "Operation completed over 4 objects/583.3 MiB.                                    \n"
          ]
        }
      ]
    },
    {
      "cell_type": "markdown",
      "source": [
        "Si vamos ahora a nuestro bucket podemos observar que todo se haya subido correctamente."
      ],
      "metadata": {
        "id": "2ii9gcS-w23k"
      }
    },
    {
      "cell_type": "markdown",
      "metadata": {
        "id": "M1kVZMA9ZOKQ"
      },
      "source": [
        "## Running our Workflow using DataFlow and AI Platform"
      ]
    },
    {
      "cell_type": "markdown",
      "source": [
        "Hasta ahora estábamos trabajando en colab usando como almacenamiento el Drive. Ahora lo que vamos a hacer es trabajar en la nube por lo que lo primero que debemos hacer es modificar nuestro directorio de trabajo:"
      ],
      "metadata": {
        "id": "YC8m20WrxDBk"
      }
    },
    {
      "cell_type": "code",
      "metadata": {
        "id": "xiHS_6_0aivj"
      },
      "source": [
        "WORK_DIR = 'gs://' + BUCKET_NAME + '/twitter-sentiment-batch'"
      ],
      "execution_count": null,
      "outputs": []
    },
    {
      "cell_type": "markdown",
      "source": [
        "Comprobamos que se haya cambiado correctamente."
      ],
      "metadata": {
        "id": "wJ1noZHZxTm5"
      }
    },
    {
      "cell_type": "code",
      "metadata": {
        "id": "Wz41RF-UbFeI",
        "colab": {
          "base_uri": "https://localhost:8080/"
        },
        "outputId": "70789f60-8894-4f15-e74a-e7497c44ac57"
      },
      "source": [
        "! ls"
      ],
      "execution_count": null,
      "outputs": [
        {
          "output_type": "stream",
          "name": "stdout",
          "text": [
            "data\t\t    preprocess_inicial.py  setup.py\n",
            "predict-inicial.py  requirements.txt\t   trainer\n"
          ]
        }
      ]
    },
    {
      "cell_type": "markdown",
      "metadata": {
        "id": "kZUw3yIKGsWg"
      },
      "source": [
        "Ahora nos aseguramos de haber ejecutado la celda de credenciales del notebook y procedemos.\n",
        "\n",
        "Sin cambiar el código, y una vez que lo hemos depurado en loca, podemos pasar a entrenar nuestro modelo empleando recursos de Google Cloud.\n",
        "\n",
        "Para ello debemos añadir unos pocos argumentos a la orden"
      ]
    },
    {
      "cell_type": "code",
      "metadata": {
        "id": "mUxSxGfYYRJz",
        "colab": {
          "base_uri": "https://localhost:8080/"
        },
        "outputId": "819f8fb6-419b-40d4-bb56-9bca449a2ad2"
      },
      "source": [
        "! python3 preprocess.py \\\n",
        "  --project $PROJECT_ID \\\n",
        "  --region $REGION \\\n",
        "  --runner DataflowRunner \\\n",
        "  --temp_location $WORK_DIR/beam-temp \\\n",
        "  --setup_file ./setup.py \\\n",
        "  --work-dir $WORK_DIR \\\n",
        "  --input $WORK_DIR/data/training*.csv \\\n",
        "  --output $WORK_DIR/data/transformed_data \\\n",
        "  --mode train"
      ],
      "execution_count": null,
      "outputs": [
        {
          "output_type": "stream",
          "name": "stdout",
          "text": [
            "[nltk_data] Downloading package stopwords to /root/nltk_data...\n",
            "[nltk_data]   Package stopwords is already up-to-date!\n",
            "INFO:apache_beam.internal.gcp.auth:Setting socket default timeout to 60 seconds.\n",
            "INFO:apache_beam.internal.gcp.auth:socket default timeout is 60.0 seconds.\n",
            "INFO:apache_beam.io.gcp.gcsio:Starting the size estimation of the input\n",
            "INFO:oauth2client.transport:Attempting refresh to obtain initial access_token\n",
            "INFO:apache_beam.io.gcp.gcsio:Finished listing 1 files in 2.368227958679199 seconds.\n",
            "INFO:apache_beam.runners.portability.stager:Executing command: ['/usr/bin/python3', 'setup.py', 'sdist', '--dist-dir', '/tmp/tmpytg2ov_i']\n",
            "warning: check: missing required meta-data: url\n",
            "\n",
            "warning: check: missing meta-data: either (author and author_email) or (maintainer and maintainer_email) must be supplied\n",
            "\n",
            "INFO:apache_beam.runners.portability.stager:Downloading source distribution of the SDK from PyPi\n",
            "INFO:apache_beam.runners.portability.stager:Executing command: ['/usr/bin/python3', '-m', 'pip', 'download', '--dest', '/tmp/tmpytg2ov_i', 'apache-beam==2.24.0', '--no-deps', '--no-binary', ':all:']\n",
            "INFO:apache_beam.runners.portability.stager:Staging SDK sources from PyPI: dataflow_python_sdk.tar\n",
            "INFO:apache_beam.runners.portability.stager:Downloading binary distribution of the SDK from PyPi\n",
            "INFO:apache_beam.runners.portability.stager:Executing command: ['/usr/bin/python3', '-m', 'pip', 'download', '--dest', '/tmp/tmpytg2ov_i', 'apache-beam==2.24.0', '--no-deps', '--only-binary', ':all:', '--python-version', '38', '--implementation', 'cp', '--abi', 'cp38', '--platform', 'manylinux1_x86_64']\n",
            "INFO:apache_beam.runners.portability.stager:Staging binary distribution of the SDK from PyPI: apache_beam-2.24.0-cp38-cp38-manylinux1_x86_64.whl\n",
            "WARNING:root:Make sure that locally built Python SDK docker image has Python 3.8 interpreter.\n",
            "INFO:root:Using Python SDK docker image: apache/beam_python3.8_sdk:2.24.0. If the image is not available at local, we will try to pull from hub.docker.com\n",
            "INFO:apache_beam.runners.dataflow.internal.apiclient:Defaulting to the temp_location as staging_location: gs://puestaproduccionkcmarzo23-art/twitter-sentiment-batch/beam-temp\n",
            "INFO:apache_beam.io.gcp.gcsio:Starting the size estimation of the input\n",
            "INFO:apache_beam.io.gcp.gcsio:Finished listing 1 files in 1.7501728534698486 seconds.\n",
            "INFO:apache_beam.runners.dataflow.internal.apiclient:Starting GCS upload to gs://puestaproduccionkcmarzo23-art/twitter-sentiment-batch/beam-temp/beamapp-root-0305140313-177808.1678024993.178050/pipeline.pb...\n",
            "INFO:apache_beam.runners.dataflow.internal.apiclient:Completed GCS upload to gs://puestaproduccionkcmarzo23-art/twitter-sentiment-batch/beam-temp/beamapp-root-0305140313-177808.1678024993.178050/pipeline.pb in 1 seconds.\n",
            "INFO:apache_beam.runners.dataflow.internal.apiclient:Starting GCS upload to gs://puestaproduccionkcmarzo23-art/twitter-sentiment-batch/beam-temp/beamapp-root-0305140313-177808.1678024993.178050/workflow.tar.gz...\n",
            "INFO:apache_beam.runners.dataflow.internal.apiclient:Completed GCS upload to gs://puestaproduccionkcmarzo23-art/twitter-sentiment-batch/beam-temp/beamapp-root-0305140313-177808.1678024993.178050/workflow.tar.gz in 0 seconds.\n",
            "INFO:apache_beam.runners.dataflow.internal.apiclient:Starting GCS upload to gs://puestaproduccionkcmarzo23-art/twitter-sentiment-batch/beam-temp/beamapp-root-0305140313-177808.1678024993.178050/pickled_main_session...\n",
            "INFO:apache_beam.runners.dataflow.internal.apiclient:Completed GCS upload to gs://puestaproduccionkcmarzo23-art/twitter-sentiment-batch/beam-temp/beamapp-root-0305140313-177808.1678024993.178050/pickled_main_session in 1 seconds.\n",
            "INFO:apache_beam.runners.dataflow.internal.apiclient:Starting GCS upload to gs://puestaproduccionkcmarzo23-art/twitter-sentiment-batch/beam-temp/beamapp-root-0305140313-177808.1678024993.178050/dataflow_python_sdk.tar...\n",
            "INFO:apache_beam.runners.dataflow.internal.apiclient:Completed GCS upload to gs://puestaproduccionkcmarzo23-art/twitter-sentiment-batch/beam-temp/beamapp-root-0305140313-177808.1678024993.178050/dataflow_python_sdk.tar in 3 seconds.\n",
            "INFO:apache_beam.runners.dataflow.internal.apiclient:Starting GCS upload to gs://puestaproduccionkcmarzo23-art/twitter-sentiment-batch/beam-temp/beamapp-root-0305140313-177808.1678024993.178050/apache_beam-2.24.0-cp38-cp38-manylinux1_x86_64.whl...\n",
            "INFO:apache_beam.runners.dataflow.internal.apiclient:Completed GCS upload to gs://puestaproduccionkcmarzo23-art/twitter-sentiment-batch/beam-temp/beamapp-root-0305140313-177808.1678024993.178050/apache_beam-2.24.0-cp38-cp38-manylinux1_x86_64.whl in 26 seconds.\n",
            "INFO:apache_beam.runners.dataflow.internal.apiclient:Create job: <Job\n",
            " createTime: '2023-03-05T14:03:54.111763Z'\n",
            " currentStateTime: '1970-01-01T00:00:00Z'\n",
            " id: '2023-03-05_06_03_51-15534045558685921072'\n",
            " location: 'europe-west1'\n",
            " name: 'beamapp-root-0305140313-177808'\n",
            " projectId: 'puestaproduccionkcmarzo23'\n",
            " stageStates: []\n",
            " startTime: '2023-03-05T14:03:54.111763Z'\n",
            " steps: []\n",
            " tempFiles: []\n",
            " type: TypeValueValuesEnum(JOB_TYPE_BATCH, 1)>\n",
            "INFO:apache_beam.runners.dataflow.internal.apiclient:Created job with id: [2023-03-05_06_03_51-15534045558685921072]\n",
            "INFO:apache_beam.runners.dataflow.internal.apiclient:Submitted job: 2023-03-05_06_03_51-15534045558685921072\n",
            "INFO:apache_beam.runners.dataflow.internal.apiclient:To access the Dataflow monitoring console, please navigate to https://console.cloud.google.com/dataflow/jobs/europe-west1/2023-03-05_06_03_51-15534045558685921072?project=puestaproduccionkcmarzo23\n",
            "INFO:apache_beam.runners.dataflow.dataflow_runner:Job 2023-03-05_06_03_51-15534045558685921072 is in state JOB_STATE_PENDING\n",
            "INFO:apache_beam.runners.dataflow.dataflow_runner:2023-03-05T14:03:51.320Z: JOB_MESSAGE_BASIC: Dataflow Runner V2 auto-enabled. Use --experiments=disable_runner_v2 to opt out.\n",
            "INFO:apache_beam.runners.dataflow.dataflow_runner:2023-03-05T14:03:55.458Z: JOB_MESSAGE_DETAILED: Autoscaling is enabled for job 2023-03-05_06_03_51-15534045558685921072. The number of workers will be between 1 and 1000.\n",
            "INFO:apache_beam.runners.dataflow.dataflow_runner:2023-03-05T14:03:55.504Z: JOB_MESSAGE_DETAILED: Autoscaling was automatically enabled for job 2023-03-05_06_03_51-15534045558685921072.\n",
            "INFO:apache_beam.runners.dataflow.dataflow_runner:2023-03-05T14:03:57.128Z: JOB_MESSAGE_BASIC: Worker configuration: n1-standard-1 in europe-west1-b.\n",
            "INFO:apache_beam.runners.dataflow.dataflow_runner:2023-03-05T14:03:57.982Z: JOB_MESSAGE_DETAILED: Expanding SplittableParDo operations into optimizable parts.\n",
            "INFO:apache_beam.runners.dataflow.dataflow_runner:2023-03-05T14:03:58.006Z: JOB_MESSAGE_DETAILED: Expanding CollectionToSingleton operations into optimizable parts.\n",
            "INFO:apache_beam.runners.dataflow.dataflow_runner:2023-03-05T14:03:58.048Z: JOB_MESSAGE_DETAILED: Expanding CoGroupByKey operations into optimizable parts.\n",
            "INFO:apache_beam.runners.dataflow.dataflow_runner:2023-03-05T14:03:58.081Z: JOB_MESSAGE_DEBUG: Combiner lifting skipped for step TrainWriteToCSV/Write/WriteImpl/GroupByKey: GroupByKey not followed by a combiner.\n",
            "INFO:apache_beam.runners.dataflow.dataflow_runner:2023-03-05T14:03:58.110Z: JOB_MESSAGE_DEBUG: Combiner lifting skipped for step EvalWriteToCSV/Write/WriteImpl/GroupByKey: GroupByKey not followed by a combiner.\n",
            "INFO:apache_beam.runners.dataflow.dataflow_runner:2023-03-05T14:03:58.134Z: JOB_MESSAGE_DETAILED: Expanding GroupByKey operations into optimizable parts.\n",
            "INFO:apache_beam.runners.dataflow.dataflow_runner:2023-03-05T14:03:58.163Z: JOB_MESSAGE_DEBUG: Annotating graph with Autotuner information.\n",
            "INFO:apache_beam.runners.dataflow.dataflow_runner:2023-03-05T14:03:58.194Z: JOB_MESSAGE_DETAILED: Fusing adjacent ParDo, Read, Write, and Flatten operations\n",
            "INFO:apache_beam.runners.dataflow.dataflow_runner:2023-03-05T14:03:58.219Z: JOB_MESSAGE_DETAILED: Fusing consumer EvalWriteToCSV/Write/WriteImpl/InitializeWrite into EvalWriteToCSV/Write/WriteImpl/DoOnce/Map(decode)\n",
            "INFO:apache_beam.runners.dataflow.dataflow_runner:2023-03-05T14:03:58.251Z: JOB_MESSAGE_DETAILED: Fusing consumer TrainWriteToCSV/Write/WriteImpl/InitializeWrite into TrainWriteToCSV/Write/WriteImpl/DoOnce/Map(decode)\n",
            "INFO:apache_beam.runners.dataflow.dataflow_runner:2023-03-05T14:03:58.283Z: JOB_MESSAGE_DETAILED: Fusing consumer EvalWriteToCSV/Write/WriteImpl/DoOnce/FlatMap(<lambda at core.py:2826>) into EvalWriteToCSV/Write/WriteImpl/DoOnce/Impulse\n",
            "INFO:apache_beam.runners.dataflow.dataflow_runner:2023-03-05T14:03:58.305Z: JOB_MESSAGE_DETAILED: Fusing consumer EvalWriteToCSV/Write/WriteImpl/DoOnce/Map(decode) into EvalWriteToCSV/Write/WriteImpl/DoOnce/FlatMap(<lambda at core.py:2826>)\n",
            "INFO:apache_beam.runners.dataflow.dataflow_runner:2023-03-05T14:03:58.318Z: JOB_MESSAGE_DETAILED: Fusing consumer ref_AppliedPTransform_ReadTwitterData/Read/_SDFBoundedSourceWrapper/ParDo(SDFBoundedSourceDoFn)_6/PairWithRestriction into ReadTwitterData/Read/_SDFBoundedSourceWrapper/Impulse\n",
            "INFO:apache_beam.runners.dataflow.dataflow_runner:2023-03-05T14:03:58.349Z: JOB_MESSAGE_DETAILED: Fusing consumer ref_AppliedPTransform_ReadTwitterData/Read/_SDFBoundedSourceWrapper/ParDo(SDFBoundedSourceDoFn)_6/SplitWithSizing into ref_AppliedPTransform_ReadTwitterData/Read/_SDFBoundedSourceWrapper/ParDo(SDFBoundedSourceDoFn)_6/PairWithRestriction\n",
            "INFO:apache_beam.runners.dataflow.dataflow_runner:2023-03-05T14:03:58.371Z: JOB_MESSAGE_DETAILED: Fusing consumer ExtractColumns into ref_AppliedPTransform_ReadTwitterData/Read/_SDFBoundedSourceWrapper/ParDo(SDFBoundedSourceDoFn)_6/ProcessElementAndRestrictionWithSizing\n",
            "INFO:apache_beam.runners.dataflow.dataflow_runner:2023-03-05T14:03:58.398Z: JOB_MESSAGE_DETAILED: Fusing consumer Preprocess into ExtractColumns\n",
            "INFO:apache_beam.runners.dataflow.dataflow_runner:2023-03-05T14:03:58.425Z: JOB_MESSAGE_DETAILED: Fusing consumer Split dataset/ParDo(ApplyPartitionFnFn)/ParDo(ApplyPartitionFnFn) into Preprocess\n",
            "INFO:apache_beam.runners.dataflow.dataflow_runner:2023-03-05T14:03:58.449Z: JOB_MESSAGE_DETAILED: Fusing consumer EvalWriteToCSV/Write/WriteImpl/WindowInto(WindowIntoFn) into Split dataset/ParDo(ApplyPartitionFnFn)/ParDo(ApplyPartitionFnFn)\n",
            "INFO:apache_beam.runners.dataflow.dataflow_runner:2023-03-05T14:03:58.462Z: JOB_MESSAGE_DETAILED: Fusing consumer EvalWriteToCSV/Write/WriteImpl/WriteBundles into EvalWriteToCSV/Write/WriteImpl/WindowInto(WindowIntoFn)\n",
            "INFO:apache_beam.runners.dataflow.dataflow_runner:2023-03-05T14:03:58.475Z: JOB_MESSAGE_DETAILED: Fusing consumer EvalWriteToCSV/Write/WriteImpl/Pair into EvalWriteToCSV/Write/WriteImpl/WriteBundles\n",
            "INFO:apache_beam.runners.dataflow.dataflow_runner:2023-03-05T14:03:58.505Z: JOB_MESSAGE_DETAILED: Fusing consumer EvalWriteToCSV/Write/WriteImpl/GroupByKey/Write into EvalWriteToCSV/Write/WriteImpl/Pair\n",
            "INFO:apache_beam.runners.dataflow.dataflow_runner:2023-03-05T14:03:58.531Z: JOB_MESSAGE_DETAILED: Fusing consumer EvalWriteToCSV/Write/WriteImpl/Extract into EvalWriteToCSV/Write/WriteImpl/GroupByKey/Read\n",
            "INFO:apache_beam.runners.dataflow.dataflow_runner:2023-03-05T14:03:58.551Z: JOB_MESSAGE_DETAILED: Fusing consumer TrainWriteToCSV/Write/WriteImpl/DoOnce/FlatMap(<lambda at core.py:2826>) into TrainWriteToCSV/Write/WriteImpl/DoOnce/Impulse\n",
            "INFO:apache_beam.runners.dataflow.dataflow_runner:2023-03-05T14:03:58.571Z: JOB_MESSAGE_DETAILED: Fusing consumer TrainWriteToCSV/Write/WriteImpl/DoOnce/Map(decode) into TrainWriteToCSV/Write/WriteImpl/DoOnce/FlatMap(<lambda at core.py:2826>)\n",
            "INFO:apache_beam.runners.dataflow.dataflow_runner:2023-03-05T14:03:58.593Z: JOB_MESSAGE_DETAILED: Fusing consumer TrainWriteToCSV/Write/WriteImpl/WindowInto(WindowIntoFn) into Split dataset/ParDo(ApplyPartitionFnFn)/ParDo(ApplyPartitionFnFn)\n",
            "INFO:apache_beam.runners.dataflow.dataflow_runner:2023-03-05T14:03:58.623Z: JOB_MESSAGE_DETAILED: Fusing consumer TrainWriteToCSV/Write/WriteImpl/WriteBundles into TrainWriteToCSV/Write/WriteImpl/WindowInto(WindowIntoFn)\n",
            "INFO:apache_beam.runners.dataflow.dataflow_runner:2023-03-05T14:03:58.646Z: JOB_MESSAGE_DETAILED: Fusing consumer TrainWriteToCSV/Write/WriteImpl/Pair into TrainWriteToCSV/Write/WriteImpl/WriteBundles\n",
            "INFO:apache_beam.runners.dataflow.dataflow_runner:2023-03-05T14:03:58.666Z: JOB_MESSAGE_DETAILED: Fusing consumer TrainWriteToCSV/Write/WriteImpl/GroupByKey/Write into TrainWriteToCSV/Write/WriteImpl/Pair\n",
            "INFO:apache_beam.runners.dataflow.dataflow_runner:2023-03-05T14:03:58.680Z: JOB_MESSAGE_DETAILED: Fusing consumer TrainWriteToCSV/Write/WriteImpl/Extract into TrainWriteToCSV/Write/WriteImpl/GroupByKey/Read\n",
            "INFO:apache_beam.runners.dataflow.dataflow_runner:2023-03-05T14:03:58.718Z: JOB_MESSAGE_DEBUG: Workflow config is missing a default resource spec.\n",
            "INFO:apache_beam.runners.dataflow.dataflow_runner:2023-03-05T14:03:58.743Z: JOB_MESSAGE_DEBUG: Adding StepResource setup and teardown to workflow graph.\n",
            "INFO:apache_beam.runners.dataflow.dataflow_runner:2023-03-05T14:03:58.766Z: JOB_MESSAGE_DEBUG: Adding workflow start and stop steps.\n",
            "INFO:apache_beam.runners.dataflow.dataflow_runner:2023-03-05T14:03:58.798Z: JOB_MESSAGE_DEBUG: Assigning stage ids.\n",
            "INFO:apache_beam.runners.dataflow.dataflow_runner:2023-03-05T14:03:58.921Z: JOB_MESSAGE_DEBUG: Executing wait step start28\n",
            "INFO:apache_beam.runners.dataflow.dataflow_runner:2023-03-05T14:03:58.973Z: JOB_MESSAGE_BASIC: Executing operation TrainWriteToCSV/Write/WriteImpl/DoOnce/Impulse+TrainWriteToCSV/Write/WriteImpl/DoOnce/FlatMap(<lambda at core.py:2826>)+TrainWriteToCSV/Write/WriteImpl/DoOnce/Map(decode)+TrainWriteToCSV/Write/WriteImpl/InitializeWrite\n",
            "INFO:apache_beam.runners.dataflow.dataflow_runner:2023-03-05T14:03:58.996Z: JOB_MESSAGE_BASIC: Executing operation ReadTwitterData/Read/_SDFBoundedSourceWrapper/Impulse+ref_AppliedPTransform_ReadTwitterData/Read/_SDFBoundedSourceWrapper/ParDo(SDFBoundedSourceDoFn)_6/PairWithRestriction+ref_AppliedPTransform_ReadTwitterData/Read/_SDFBoundedSourceWrapper/ParDo(SDFBoundedSourceDoFn)_6/SplitWithSizing\n",
            "INFO:apache_beam.runners.dataflow.dataflow_runner:2023-03-05T14:03:59.009Z: JOB_MESSAGE_DEBUG: Starting worker pool setup.\n",
            "INFO:apache_beam.runners.dataflow.dataflow_runner:2023-03-05T14:03:59.031Z: JOB_MESSAGE_BASIC: Starting 1 workers in europe-west1-b...\n",
            "INFO:apache_beam.runners.dataflow.dataflow_runner:2023-03-05T14:03:59.032Z: JOB_MESSAGE_BASIC: Executing operation EvalWriteToCSV/Write/WriteImpl/DoOnce/Impulse+EvalWriteToCSV/Write/WriteImpl/DoOnce/FlatMap(<lambda at core.py:2826>)+EvalWriteToCSV/Write/WriteImpl/DoOnce/Map(decode)+EvalWriteToCSV/Write/WriteImpl/InitializeWrite\n",
            "INFO:apache_beam.runners.dataflow.dataflow_runner:Job 2023-03-05_06_03_51-15534045558685921072 is in state JOB_STATE_RUNNING\n",
            "INFO:apache_beam.runners.dataflow.dataflow_runner:2023-03-05T14:04:36.530Z: JOB_MESSAGE_DETAILED: Autoscaling: Raised the number of workers to 1 based on the rate of progress in the currently running stage(s).\n",
            "Traceback (most recent call last):\n",
            "\n",
            "^C\n"
          ]
        }
      ]
    },
    {
      "cell_type": "markdown",
      "source": [
        "Si esperamos unos segundos y accedemos a DataFlow a través de la consola podremos ver nuestro job ejecutando. \n",
        "\n",
        "En él podemos observar el grafo de ejecución y entender cómo funcionan las ejecuciones.\n",
        "\n",
        "Una vez se haya lanzado el job podemos parar la celda y ejecutar la siguiente pues todo se está ya ejecutando en paralelo por detrás en la nube:"
      ],
      "metadata": {
        "id": "_NlqH7FJxuhT"
      }
    },
    {
      "cell_type": "code",
      "metadata": {
        "id": "w2XVsdk0a2ji"
      },
      "source": [
        "! python3 preprocess.py \\\n",
        "  --project $PROJECT_ID \\\n",
        "  --region $REGION \\\n",
        "  --runner DataflowRunner \\\n",
        "  --temp_location $WORK_DIR/beam-temp \\\n",
        "  --setup_file ./setup.py \\\n",
        "  --work-dir $WORK_DIR \\\n",
        "  --input $WORK_DIR/data/test*.csv \\\n",
        "  --output $WORK_DIR/data/transformed_data \\\n",
        "  --mode test"
      ],
      "execution_count": null,
      "outputs": []
    },
    {
      "cell_type": "markdown",
      "source": [
        "### A partir de aquí no vamos a ejecutar"
      ],
      "metadata": {
        "id": "B68x-xoLcPP0"
      }
    },
    {
      "cell_type": "markdown",
      "source": [
        "A continuación vamos a lanzar el job de entrenamiento en la nube. Para ello modificamos de nuevo el directorio del job y añadimos de nuevo un nombre con fecha para el mismo"
      ],
      "metadata": {
        "id": "rJ3LjFL4y86E"
      }
    },
    {
      "cell_type": "code",
      "metadata": {
        "id": "WC70qwRKirYo"
      },
      "source": [
        "JOB = \"twitter_sentiment_analysis_batch_$(date +%Y%m%d_%H%M%S)\"\n",
        "JOB_DIR = WORK_DIR + \"/trainer\""
      ],
      "execution_count": null,
      "outputs": []
    },
    {
      "cell_type": "markdown",
      "source": [
        "Enviamos un trabajo de training, le indicamos que módulo tiene que utilizar, qué recursos, qué versión de python y runtime (librería predefinidas de Google)...\n",
        "\n",
        "Necesitamos que acaben de ejecutar los datos para lanzarlo y **tiene un coste**.\n",
        "\n",
        "Recomiendo no ejecutarlo."
      ],
      "metadata": {
        "id": "WFEdyh_hz8T7"
      }
    },
    {
      "cell_type": "code",
      "metadata": {
        "id": "p9HwN0C5jAEl"
      },
      "source": [
        "! gcloud ai-platform jobs submit training $JOB \\\n",
        "  --module-name trainer.task \\\n",
        "  --package-path trainer \\\n",
        "  --scale-tier basic_gpu \\\n",
        "  --python-version 3.7 \\\n",
        "  --runtime-version 2.1 \\\n",
        "  --region $REGION \\\n",
        "  --job-dir $JOB_DIR \\\n",
        "  --stream-logs \\\n",
        "  -- \\\n",
        "  --work-dir $WORK_DIR \\\n",
        "  --epochs 3"
      ],
      "execution_count": null,
      "outputs": []
    },
    {
      "cell_type": "code",
      "metadata": {
        "id": "JQeUuaQbsSwD"
      },
      "source": [
        "# Sample tokenizer.pkl...\n",
        "! wget https://transfer.sh/LMlBX/tokenizer.pkl -O - | gsutil cp - gs://$BUCKET_NAME/models/tokenizer.pkl"
      ],
      "execution_count": null,
      "outputs": []
    },
    {
      "cell_type": "code",
      "metadata": {
        "id": "Pp1QzbHDs7mw"
      },
      "source": [
        "# Sample model.h5...\n",
        "! wget https://transfer.sh/vqvNx/model.h5 -O - | gsutil cp - gs://$BUCKET_NAME/models/model.h5"
      ],
      "execution_count": null,
      "outputs": []
    },
    {
      "cell_type": "code",
      "metadata": {
        "id": "FpLVBUuQofHT"
      },
      "source": [
        "from datetime import datetime\n",
        "\n",
        "# current date and time\n",
        "TIMESTAMP = datetime.now().strftime('%Y-%m-%d_%H-%M-%S')"
      ],
      "execution_count": null,
      "outputs": []
    },
    {
      "cell_type": "markdown",
      "source": [
        "En la parte de inferencia podemos realizar inferencia en la nube a partir del modelo que hemos entrenado en local. De nuevo debemos esperar a que ejecute la parte de preprocesamiento para que esto funcione.\n",
        "\n",
        "**Esta ejecucición cuesta dinero.**\n",
        "\n",
        "Recomiendo no ejecutar."
      ],
      "metadata": {
        "id": "u9wLFUnX0ZVy"
      }
    },
    {
      "cell_type": "code",
      "metadata": {
        "id": "yuRlZS43nirW"
      },
      "source": [
        "# For using sample models: --model-dir gs://$BUCKET_NAME/models/\n",
        "! python3 predict.py \\\n",
        "  --work-dir $WORK_DIR \\\n",
        "  --model-dir gs://$BUCKET_NAME/models/ \\\n",
        "  batch \\\n",
        "  --project $PROJECT_ID \\\n",
        "  --region $REGION \\\n",
        "  --runner DataflowRunner \\\n",
        "  --temp_location $WORK_DIR/beam-temp \\\n",
        "  --setup_file ./setup.py \\\n",
        "  --inputs-dir $WORK_DIR/data/transformed_data/test/part* \\\n",
        "  --outputs-dir $WORK_DIR/predictions/$TIMESTAMP"
      ],
      "execution_count": null,
      "outputs": []
    },
    {
      "cell_type": "markdown",
      "source": [
        "Podemos explorar en la consola cómo avanza el job."
      ],
      "metadata": {
        "id": "OfIoBhw411Qt"
      }
    }
  ]
}